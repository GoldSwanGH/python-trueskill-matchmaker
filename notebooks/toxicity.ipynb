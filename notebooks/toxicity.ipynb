{
 "cells":[
  {
   "cell_type":"code",
   "source":[
    "import warnings\n",
    "warnings.filterwarnings('ignore')\n",
    "import numpy as np\n",
    "import pandas as pd\n",
    "import profanity_check"
   ],
   "execution_count":1,
   "outputs":[
    
   ],
   "metadata":{
    "datalore":{
     "type":"CODE",
     "hide_input_from_viewers":false,
     "hide_output_from_viewers":false
    }
   }
  },
  {
   "cell_type":"markdown",
   "source":[
    "<p>Загружаем данные...<\/p>"
   ],
   "attachments":{
    
   },
   "metadata":{
    "datalore":{
     "type":"MD",
     "hide_input_from_viewers":false,
     "hide_output_from_viewers":false
    }
   }
  },
  {
   "cell_type":"code",
   "source":[
    "players = pd.read_csv('\/data\/notebook_files\/players.csv')\n",
    "chat = pd.read_csv('\/data\/notebook_files\/chat.csv')"
   ],
   "execution_count":2,
   "outputs":[
    
   ],
   "metadata":{
    "datalore":{
     "type":"CODE",
     "hide_input_from_viewers":false,
     "hide_output_from_viewers":false
    }
   }
  },
  {
   "cell_type":"markdown",
   "source":[
    "<h2>Обработка сообщений из чата<\/h2>"
   ],
   "attachments":{
    
   },
   "metadata":{
    "datalore":{
     "type":"MD",
     "hide_input_from_viewers":false,
     "hide_output_from_viewers":false
    }
   }
  },
  {
   "cell_type":"markdown",
   "source":[
    "<p>Предварительная обработка данных - номера слотов в players закодированы немного иначе.<\/p>"
   ],
   "attachments":{
    
   },
   "metadata":{
    "datalore":{
     "type":"MD",
     "hide_input_from_viewers":false,
     "hide_output_from_viewers":false
    }
   }
  },
  {
   "cell_type":"code",
   "source":[
    "players[\"player_slot\"] = players[\"player_slot\"].replace(128, 5)\n",
    "players[\"player_slot\"] = players[\"player_slot\"].replace(129, 6)\n",
    "players[\"player_slot\"] = players[\"player_slot\"].replace(130, 7)\n",
    "players[\"player_slot\"] = players[\"player_slot\"].replace(131, 8)\n",
    "players[\"player_slot\"] = players[\"player_slot\"].replace(132, 9)"
   ],
   "execution_count":3,
   "outputs":[
    
   ],
   "metadata":{
    "datalore":{
     "type":"CODE",
     "hide_input_from_viewers":false,
     "hide_output_from_viewers":false
    }
   }
  },
  {
   "cell_type":"markdown",
   "source":[
    "<p>Объединяем данные в одну таблицу и выбираем только нужные нам атрибуты.<\/p>"
   ],
   "attachments":{
    
   },
   "metadata":{
    "datalore":{
     "type":"MD",
     "hide_input_from_viewers":false,
     "hide_output_from_viewers":false
    }
   }
  },
  {
   "cell_type":"code",
   "source":[
    "merged = chat.merge(players, 'left', on = [\"match_id\", \"player_slot\"])\n",
    "\n",
    "attrib = [\"match_id\", \"account_id\", \"player_slot\", \"key\"]\n",
    "merged = merged[attrib]\n",
    "merged"
   ],
   "execution_count":4,
   "outputs":[
    {
     "data":{
      "text\/html":[
       "<div>\n",
       "<style scoped>\n",
       "    .dataframe tbody tr th:only-of-type {\n",
       "        vertical-align: middle;\n",
       "    }\n",
       "\n",
       "    .dataframe tbody tr th {\n",
       "        vertical-align: top;\n",
       "    }\n",
       "\n",
       "    .dataframe thead th {\n",
       "        text-align: right;\n",
       "    }\n",
       "<\/style>\n",
       "<table border=\"1\" class=\"dataframe\">\n",
       "  <thead>\n",
       "    <tr style=\"text-align: right;\">\n",
       "      <th><\/th>\n",
       "      <th>match_id<\/th>\n",
       "      <th>account_id<\/th>\n",
       "      <th>player_slot<\/th>\n",
       "      <th>key<\/th>\n",
       "    <\/tr>\n",
       "  <\/thead>\n",
       "  <tbody>\n",
       "    <tr>\n",
       "      <th>0<\/th>\n",
       "      <td>0<\/td>\n",
       "      <td>0.0<\/td>\n",
       "      <td>6<\/td>\n",
       "      <td>force it<\/td>\n",
       "    <\/tr>\n",
       "    <tr>\n",
       "      <th>1<\/th>\n",
       "      <td>0<\/td>\n",
       "      <td>1.0<\/td>\n",
       "      <td>1<\/td>\n",
       "      <td>space created<\/td>\n",
       "    <\/tr>\n",
       "    <tr>\n",
       "      <th>2<\/th>\n",
       "      <td>0<\/td>\n",
       "      <td>1.0<\/td>\n",
       "      <td>1<\/td>\n",
       "      <td>hah<\/td>\n",
       "    <\/tr>\n",
       "    <tr>\n",
       "      <th>3<\/th>\n",
       "      <td>0<\/td>\n",
       "      <td>0.0<\/td>\n",
       "      <td>6<\/td>\n",
       "      <td>ez 500<\/td>\n",
       "    <\/tr>\n",
       "    <tr>\n",
       "      <th>4<\/th>\n",
       "      <td>0<\/td>\n",
       "      <td>3.0<\/td>\n",
       "      <td>4<\/td>\n",
       "      <td>mvp ulti<\/td>\n",
       "    <\/tr>\n",
       "    <tr>\n",
       "      <th>...<\/th>\n",
       "      <td>...<\/td>\n",
       "      <td>...<\/td>\n",
       "      <td>...<\/td>\n",
       "      <td>...<\/td>\n",
       "    <\/tr>\n",
       "    <tr>\n",
       "      <th>1439483<\/th>\n",
       "      <td>49999<\/td>\n",
       "      <td>0.0<\/td>\n",
       "      <td>8<\/td>\n",
       "      <td>ez<\/td>\n",
       "    <\/tr>\n",
       "    <tr>\n",
       "      <th>1439484<\/th>\n",
       "      <td>49999<\/td>\n",
       "      <td>0.0<\/td>\n",
       "      <td>1<\/td>\n",
       "      <td>ya ya so ezx<\/td>\n",
       "    <\/tr>\n",
       "    <tr>\n",
       "      <th>1439485<\/th>\n",
       "      <td>49999<\/td>\n",
       "      <td>0.0<\/td>\n",
       "      <td>8<\/td>\n",
       "      <td>ez<\/td>\n",
       "    <\/tr>\n",
       "    <tr>\n",
       "      <th>1439486<\/th>\n",
       "      <td>49999<\/td>\n",
       "      <td>0.0<\/td>\n",
       "      <td>1<\/td>\n",
       "      <td>hahaha<\/td>\n",
       "    <\/tr>\n",
       "    <tr>\n",
       "      <th>1439487<\/th>\n",
       "      <td>49999<\/td>\n",
       "      <td>0.0<\/td>\n",
       "      <td>8<\/td>\n",
       "      <td>ez<\/td>\n",
       "    <\/tr>\n",
       "  <\/tbody>\n",
       "<\/table>\n",
       "<p>1439488 rows × 4 columns<\/p>\n",
       "<\/div>"
      ]
     },
     "metadata":{
      
     },
     "output_type":"display_data"
    }
   ],
   "metadata":{
    "datalore":{
     "type":"CODE",
     "hide_input_from_viewers":false,
     "hide_output_from_viewers":false
    }
   }
  },
  {
   "cell_type":"markdown",
   "source":[
    "<p>В таблице есть NaN значения, например, в account_id.<\/p>"
   ],
   "attachments":{
    
   },
   "metadata":{
    "datalore":{
     "type":"MD",
     "hide_input_from_viewers":false,
     "hide_output_from_viewers":false
    }
   }
  },
  {
   "cell_type":"code",
   "source":[
    "merged[merged[\"account_id\"].isna()]"
   ],
   "execution_count":5,
   "outputs":[
    {
     "data":{
      "text\/html":[
       "<div>\n",
       "<style scoped>\n",
       "    .dataframe tbody tr th:only-of-type {\n",
       "        vertical-align: middle;\n",
       "    }\n",
       "\n",
       "    .dataframe tbody tr th {\n",
       "        vertical-align: top;\n",
       "    }\n",
       "\n",
       "    .dataframe thead th {\n",
       "        text-align: right;\n",
       "    }\n",
       "<\/style>\n",
       "<table border=\"1\" class=\"dataframe\">\n",
       "  <thead>\n",
       "    <tr style=\"text-align: right;\">\n",
       "      <th><\/th>\n",
       "      <th>match_id<\/th>\n",
       "      <th>account_id<\/th>\n",
       "      <th>player_slot<\/th>\n",
       "      <th>key<\/th>\n",
       "    <\/tr>\n",
       "  <\/thead>\n",
       "  <tbody>\n",
       "    <tr>\n",
       "      <th>245074<\/th>\n",
       "      <td>8216<\/td>\n",
       "      <td>NaN<\/td>\n",
       "      <td>-9<\/td>\n",
       "      <td>зарание спасибо<\/td>\n",
       "    <\/tr>\n",
       "    <tr>\n",
       "      <th>332431<\/th>\n",
       "      <td>11215<\/td>\n",
       "      <td>NaN<\/td>\n",
       "      <td>-9<\/td>\n",
       "      <td>nazi army<\/td>\n",
       "    <\/tr>\n",
       "    <tr>\n",
       "      <th>489758<\/th>\n",
       "      <td>16613<\/td>\n",
       "      <td>NaN<\/td>\n",
       "      <td>-9<\/td>\n",
       "      <td>to ez<\/td>\n",
       "    <\/tr>\n",
       "    <tr>\n",
       "      <th>652287<\/th>\n",
       "      <td>22654<\/td>\n",
       "      <td>NaN<\/td>\n",
       "      <td>-9<\/td>\n",
       "      <td>ggwp<\/td>\n",
       "    <\/tr>\n",
       "  <\/tbody>\n",
       "<\/table>\n",
       "<\/div>"
      ]
     },
     "metadata":{
      
     },
     "output_type":"display_data"
    }
   ],
   "metadata":{
    "datalore":{
     "type":"CODE",
     "hide_input_from_viewers":false,
     "hide_output_from_viewers":false
    }
   }
  },
  {
   "cell_type":"markdown",
   "source":[
    "<p>Уберем все строки с NaN значениями, в итоге были убраны только 18 строк. Это не отразится на качестве данных.<\/p>"
   ],
   "attachments":{
    
   },
   "metadata":{
    "datalore":{
     "type":"MD",
     "hide_input_from_viewers":false,
     "hide_output_from_viewers":false
    }
   }
  },
  {
   "cell_type":"code",
   "source":[
    "merged = merged.dropna()\n",
    "merged"
   ],
   "execution_count":6,
   "outputs":[
    {
     "data":{
      "text\/html":[
       "<div>\n",
       "<style scoped>\n",
       "    .dataframe tbody tr th:only-of-type {\n",
       "        vertical-align: middle;\n",
       "    }\n",
       "\n",
       "    .dataframe tbody tr th {\n",
       "        vertical-align: top;\n",
       "    }\n",
       "\n",
       "    .dataframe thead th {\n",
       "        text-align: right;\n",
       "    }\n",
       "<\/style>\n",
       "<table border=\"1\" class=\"dataframe\">\n",
       "  <thead>\n",
       "    <tr style=\"text-align: right;\">\n",
       "      <th><\/th>\n",
       "      <th>match_id<\/th>\n",
       "      <th>account_id<\/th>\n",
       "      <th>player_slot<\/th>\n",
       "      <th>key<\/th>\n",
       "    <\/tr>\n",
       "  <\/thead>\n",
       "  <tbody>\n",
       "    <tr>\n",
       "      <th>0<\/th>\n",
       "      <td>0<\/td>\n",
       "      <td>0.0<\/td>\n",
       "      <td>6<\/td>\n",
       "      <td>force it<\/td>\n",
       "    <\/tr>\n",
       "    <tr>\n",
       "      <th>1<\/th>\n",
       "      <td>0<\/td>\n",
       "      <td>1.0<\/td>\n",
       "      <td>1<\/td>\n",
       "      <td>space created<\/td>\n",
       "    <\/tr>\n",
       "    <tr>\n",
       "      <th>2<\/th>\n",
       "      <td>0<\/td>\n",
       "      <td>1.0<\/td>\n",
       "      <td>1<\/td>\n",
       "      <td>hah<\/td>\n",
       "    <\/tr>\n",
       "    <tr>\n",
       "      <th>3<\/th>\n",
       "      <td>0<\/td>\n",
       "      <td>0.0<\/td>\n",
       "      <td>6<\/td>\n",
       "      <td>ez 500<\/td>\n",
       "    <\/tr>\n",
       "    <tr>\n",
       "      <th>4<\/th>\n",
       "      <td>0<\/td>\n",
       "      <td>3.0<\/td>\n",
       "      <td>4<\/td>\n",
       "      <td>mvp ulti<\/td>\n",
       "    <\/tr>\n",
       "    <tr>\n",
       "      <th>...<\/th>\n",
       "      <td>...<\/td>\n",
       "      <td>...<\/td>\n",
       "      <td>...<\/td>\n",
       "      <td>...<\/td>\n",
       "    <\/tr>\n",
       "    <tr>\n",
       "      <th>1439483<\/th>\n",
       "      <td>49999<\/td>\n",
       "      <td>0.0<\/td>\n",
       "      <td>8<\/td>\n",
       "      <td>ez<\/td>\n",
       "    <\/tr>\n",
       "    <tr>\n",
       "      <th>1439484<\/th>\n",
       "      <td>49999<\/td>\n",
       "      <td>0.0<\/td>\n",
       "      <td>1<\/td>\n",
       "      <td>ya ya so ezx<\/td>\n",
       "    <\/tr>\n",
       "    <tr>\n",
       "      <th>1439485<\/th>\n",
       "      <td>49999<\/td>\n",
       "      <td>0.0<\/td>\n",
       "      <td>8<\/td>\n",
       "      <td>ez<\/td>\n",
       "    <\/tr>\n",
       "    <tr>\n",
       "      <th>1439486<\/th>\n",
       "      <td>49999<\/td>\n",
       "      <td>0.0<\/td>\n",
       "      <td>1<\/td>\n",
       "      <td>hahaha<\/td>\n",
       "    <\/tr>\n",
       "    <tr>\n",
       "      <th>1439487<\/th>\n",
       "      <td>49999<\/td>\n",
       "      <td>0.0<\/td>\n",
       "      <td>8<\/td>\n",
       "      <td>ez<\/td>\n",
       "    <\/tr>\n",
       "  <\/tbody>\n",
       "<\/table>\n",
       "<p>1439470 rows × 4 columns<\/p>\n",
       "<\/div>"
      ]
     },
     "metadata":{
      
     },
     "output_type":"display_data"
    }
   ],
   "metadata":{
    "datalore":{
     "type":"CODE",
     "hide_input_from_viewers":false,
     "hide_output_from_viewers":false
    }
   }
  },
  {
   "cell_type":"markdown",
   "source":[
    "<p>Подсчитаем, сколько сообщений отправил в общий чат каждый игрок. Особенно интересует количество сообщений от анонимных игроков (account_id = 0).<\/p>"
   ],
   "attachments":{
    
   },
   "metadata":{
    "datalore":{
     "type":"MD",
     "hide_input_from_viewers":false,
     "hide_output_from_viewers":false
    }
   }
  },
  {
   "cell_type":"code",
   "source":[
    "messages = merged.groupby(\"account_id\")[\"account_id\"].count().sort_values(ascending=False)\n",
    "messages = messages.rename(\"message_count\")\n",
    "messages"
   ],
   "execution_count":7,
   "outputs":[
    {
     "data":{
      "text\/html":[
       
      ]
     },
     "metadata":{
      
     },
     "output_type":"display_data"
    }
   ],
   "metadata":{
    "datalore":{
     "type":"CODE",
     "hide_input_from_viewers":false,
     "hide_output_from_viewers":false
    }
   }
  },
  {
   "cell_type":"markdown",
   "source":[
    "<p>Посчитаем, в скольки матчах из датасета присутствует игрок. Для анонимных игроков (account_id = 0) считается, сколько раз в датасете встречаются анонимные игроки.<\/p>"
   ],
   "attachments":{
    
   },
   "metadata":{
    "datalore":{
     "type":"MD",
     "hide_input_from_viewers":false,
     "hide_output_from_viewers":false
    }
   }
  },
  {
   "cell_type":"code",
   "source":[
    "matches_played = players.groupby(\"account_id\")[\"account_id\"].count().sort_values(ascending=False)\n",
    "matches_played = matches_played.rename(\"matches_count\")\n",
    "matches_played"
   ],
   "execution_count":8,
   "outputs":[
    {
     "data":{
      "text\/html":[
       
      ]
     },
     "metadata":{
      
     },
     "output_type":"display_data"
    }
   ],
   "metadata":{
    "datalore":{
     "type":"CODE",
     "hide_input_from_viewers":false,
     "hide_output_from_viewers":false
    }
   }
  },
  {
   "cell_type":"markdown",
   "source":[
    "<p>Демонстрация работы библиотеки alt-profanity-check, которая определяет наличие нецензурных слов или направленных на разжигание ненависти сообщений.<\/p>"
   ],
   "attachments":{
    
   },
   "metadata":{
    "datalore":{
     "type":"MD",
     "hide_input_from_viewers":false,
     "hide_output_from_viewers":false
    }
   }
  },
  {
   "cell_type":"code",
   "source":[
    "from profanity_check import predict, predict_prob\n",
    "\n",
    "predict([\"I want to kill you\"])"
   ],
   "execution_count":9,
   "outputs":[
    {
     "data":{
      "text\/html":[
       
      ]
     },
     "metadata":{
      
     },
     "output_type":"display_data"
    }
   ],
   "metadata":{
    "datalore":{
     "type":"CODE",
     "hide_input_from_viewers":false,
     "hide_output_from_viewers":false
    }
   }
  },
  {
   "cell_type":"markdown",
   "source":[
    "<p>Анализируем записи из общего чата на наличие нецензурных слов или направленных на разжигание ненависти сообщений.<\/p>"
   ],
   "attachments":{
    
   },
   "metadata":{
    "datalore":{
     "type":"MD",
     "hide_input_from_viewers":false,
     "hide_output_from_viewers":false
    }
   }
  },
  {
   "cell_type":"code",
   "source":[
    "arr = merged[\"key\"].array\n",
    "data = predict(arr)\n",
    "profanity = pd.Series(data).rename(\"profanity\")\n",
    "profanity"
   ],
   "execution_count":10,
   "outputs":[
    {
     "data":{
      "text\/html":[
       
      ]
     },
     "metadata":{
      
     },
     "output_type":"display_data"
    }
   ],
   "metadata":{
    "datalore":{
     "type":"CODE",
     "hide_input_from_viewers":false,
     "hide_output_from_viewers":false
    }
   }
  },
  {
   "cell_type":"markdown",
   "source":[
    "<p>Добавляем полученную информацию к списку аккаунтов игроков.<\/p>"
   ],
   "attachments":{
    
   },
   "metadata":{
    "datalore":{
     "type":"MD",
     "hide_input_from_viewers":false,
     "hide_output_from_viewers":false
    }
   }
  },
  {
   "cell_type":"code",
   "source":[
    "merged = merged.assign(profanity=profanity)\n",
    "merged"
   ],
   "execution_count":11,
   "outputs":[
    {
     "data":{
      "text\/html":[
       "<div>\n",
       "<style scoped>\n",
       "    .dataframe tbody tr th:only-of-type {\n",
       "        vertical-align: middle;\n",
       "    }\n",
       "\n",
       "    .dataframe tbody tr th {\n",
       "        vertical-align: top;\n",
       "    }\n",
       "\n",
       "    .dataframe thead th {\n",
       "        text-align: right;\n",
       "    }\n",
       "<\/style>\n",
       "<table border=\"1\" class=\"dataframe\">\n",
       "  <thead>\n",
       "    <tr style=\"text-align: right;\">\n",
       "      <th><\/th>\n",
       "      <th>match_id<\/th>\n",
       "      <th>account_id<\/th>\n",
       "      <th>player_slot<\/th>\n",
       "      <th>key<\/th>\n",
       "      <th>profanity<\/th>\n",
       "    <\/tr>\n",
       "  <\/thead>\n",
       "  <tbody>\n",
       "    <tr>\n",
       "      <th>0<\/th>\n",
       "      <td>0<\/td>\n",
       "      <td>0.0<\/td>\n",
       "      <td>6<\/td>\n",
       "      <td>force it<\/td>\n",
       "      <td>0.0<\/td>\n",
       "    <\/tr>\n",
       "    <tr>\n",
       "      <th>1<\/th>\n",
       "      <td>0<\/td>\n",
       "      <td>1.0<\/td>\n",
       "      <td>1<\/td>\n",
       "      <td>space created<\/td>\n",
       "      <td>0.0<\/td>\n",
       "    <\/tr>\n",
       "    <tr>\n",
       "      <th>2<\/th>\n",
       "      <td>0<\/td>\n",
       "      <td>1.0<\/td>\n",
       "      <td>1<\/td>\n",
       "      <td>hah<\/td>\n",
       "      <td>0.0<\/td>\n",
       "    <\/tr>\n",
       "    <tr>\n",
       "      <th>3<\/th>\n",
       "      <td>0<\/td>\n",
       "      <td>0.0<\/td>\n",
       "      <td>6<\/td>\n",
       "      <td>ez 500<\/td>\n",
       "      <td>0.0<\/td>\n",
       "    <\/tr>\n",
       "    <tr>\n",
       "      <th>4<\/th>\n",
       "      <td>0<\/td>\n",
       "      <td>3.0<\/td>\n",
       "      <td>4<\/td>\n",
       "      <td>mvp ulti<\/td>\n",
       "      <td>0.0<\/td>\n",
       "    <\/tr>\n",
       "    <tr>\n",
       "      <th>...<\/th>\n",
       "      <td>...<\/td>\n",
       "      <td>...<\/td>\n",
       "      <td>...<\/td>\n",
       "      <td>...<\/td>\n",
       "      <td>...<\/td>\n",
       "    <\/tr>\n",
       "    <tr>\n",
       "      <th>1439483<\/th>\n",
       "      <td>49999<\/td>\n",
       "      <td>0.0<\/td>\n",
       "      <td>8<\/td>\n",
       "      <td>ez<\/td>\n",
       "      <td>NaN<\/td>\n",
       "    <\/tr>\n",
       "    <tr>\n",
       "      <th>1439484<\/th>\n",
       "      <td>49999<\/td>\n",
       "      <td>0.0<\/td>\n",
       "      <td>1<\/td>\n",
       "      <td>ya ya so ezx<\/td>\n",
       "      <td>NaN<\/td>\n",
       "    <\/tr>\n",
       "    <tr>\n",
       "      <th>1439485<\/th>\n",
       "      <td>49999<\/td>\n",
       "      <td>0.0<\/td>\n",
       "      <td>8<\/td>\n",
       "      <td>ez<\/td>\n",
       "      <td>NaN<\/td>\n",
       "    <\/tr>\n",
       "    <tr>\n",
       "      <th>1439486<\/th>\n",
       "      <td>49999<\/td>\n",
       "      <td>0.0<\/td>\n",
       "      <td>1<\/td>\n",
       "      <td>hahaha<\/td>\n",
       "      <td>NaN<\/td>\n",
       "    <\/tr>\n",
       "    <tr>\n",
       "      <th>1439487<\/th>\n",
       "      <td>49999<\/td>\n",
       "      <td>0.0<\/td>\n",
       "      <td>8<\/td>\n",
       "      <td>ez<\/td>\n",
       "      <td>NaN<\/td>\n",
       "    <\/tr>\n",
       "  <\/tbody>\n",
       "<\/table>\n",
       "<p>1439470 rows × 5 columns<\/p>\n",
       "<\/div>"
      ]
     },
     "metadata":{
      
     },
     "output_type":"display_data"
    }
   ],
   "metadata":{
    "datalore":{
     "type":"CODE",
     "hide_input_from_viewers":false,
     "hide_output_from_viewers":false
    }
   }
  },
  {
   "cell_type":"markdown",
   "source":[
    "<p>Посчитаем, сколько плохих сообщений отправил каждый игрок:<\/p>"
   ],
   "attachments":{
    
   },
   "metadata":{
    "datalore":{
     "type":"MD",
     "hide_input_from_viewers":false,
     "hide_output_from_viewers":false
    }
   }
  },
  {
   "cell_type":"code",
   "source":[
    "fouls = merged.groupby(\"account_id\", as_index=False)[\"profanity\"].sum()\n",
    "fouls.sort_values(by='profanity', ascending=False)"
   ],
   "execution_count":12,
   "outputs":[
    {
     "data":{
      "text\/html":[
       "<div>\n",
       "<style scoped>\n",
       "    .dataframe tbody tr th:only-of-type {\n",
       "        vertical-align: middle;\n",
       "    }\n",
       "\n",
       "    .dataframe tbody tr th {\n",
       "        vertical-align: top;\n",
       "    }\n",
       "\n",
       "    .dataframe thead th {\n",
       "        text-align: right;\n",
       "    }\n",
       "<\/style>\n",
       "<table border=\"1\" class=\"dataframe\">\n",
       "  <thead>\n",
       "    <tr style=\"text-align: right;\">\n",
       "      <th><\/th>\n",
       "      <th>account_id<\/th>\n",
       "      <th>profanity<\/th>\n",
       "    <\/tr>\n",
       "  <\/thead>\n",
       "  <tbody>\n",
       "    <tr>\n",
       "      <th>0<\/th>\n",
       "      <td>0.0<\/td>\n",
       "      <td>36622.0<\/td>\n",
       "    <\/tr>\n",
       "    <tr>\n",
       "      <th>2337<\/th>\n",
       "      <td>2962.0<\/td>\n",
       "      <td>162.0<\/td>\n",
       "    <\/tr>\n",
       "    <tr>\n",
       "      <th>7010<\/th>\n",
       "      <td>9149.0<\/td>\n",
       "      <td>83.0<\/td>\n",
       "    <\/tr>\n",
       "    <tr>\n",
       "      <th>15124<\/th>\n",
       "      <td>20197.0<\/td>\n",
       "      <td>79.0<\/td>\n",
       "    <\/tr>\n",
       "    <tr>\n",
       "      <th>13043<\/th>\n",
       "      <td>17315.0<\/td>\n",
       "      <td>59.0<\/td>\n",
       "    <\/tr>\n",
       "    <tr>\n",
       "      <th>...<\/th>\n",
       "      <td>...<\/td>\n",
       "      <td>...<\/td>\n",
       "    <\/tr>\n",
       "    <tr>\n",
       "      <th>44232<\/th>\n",
       "      <td>60045.0<\/td>\n",
       "      <td>0.0<\/td>\n",
       "    <\/tr>\n",
       "    <tr>\n",
       "      <th>44231<\/th>\n",
       "      <td>60043.0<\/td>\n",
       "      <td>0.0<\/td>\n",
       "    <\/tr>\n",
       "    <tr>\n",
       "      <th>44230<\/th>\n",
       "      <td>60041.0<\/td>\n",
       "      <td>0.0<\/td>\n",
       "    <\/tr>\n",
       "    <tr>\n",
       "      <th>44228<\/th>\n",
       "      <td>60039.0<\/td>\n",
       "      <td>0.0<\/td>\n",
       "    <\/tr>\n",
       "    <tr>\n",
       "      <th>108038<\/th>\n",
       "      <td>158358.0<\/td>\n",
       "      <td>0.0<\/td>\n",
       "    <\/tr>\n",
       "  <\/tbody>\n",
       "<\/table>\n",
       "<p>108039 rows × 2 columns<\/p>\n",
       "<\/div>"
      ]
     },
     "metadata":{
      
     },
     "output_type":"display_data"
    }
   ],
   "metadata":{
    "datalore":{
     "type":"CODE",
     "hide_input_from_viewers":false,
     "hide_output_from_viewers":false
    }
   }
  },
  {
   "cell_type":"markdown",
   "source":[
    "<h2>Анализ покинутых игр<\/h2>"
   ],
   "attachments":{
    
   },
   "metadata":{
    "datalore":{
     "type":"MD",
     "hide_input_from_viewers":false,
     "hide_output_from_viewers":false
    }
   }
  },
  {
   "cell_type":"markdown",
   "source":[
    "<p>Посчитаем, в скольких матчах игрок отключался:<\/p>"
   ],
   "attachments":{
    
   },
   "metadata":{
    "datalore":{
     "type":"MD",
     "hide_input_from_viewers":false,
     "hide_output_from_viewers":false
    }
   }
  },
  {
   "cell_type":"code",
   "source":[
    "disconnected = players[[\"match_id\", \"account_id\", \"leaver_status\"]]\n",
    "disconnected[\"leaver_status\"] = players[\"leaver_status\"].mask(players[\"leaver_status\"].ne(1))\n",
    "disconnected = disconnected.groupby(\"account_id\", as_index=False)[\"leaver_status\"].count()\n",
    "disconnected.rename(columns = {'leaver_status':'disconnected'}, inplace = True)\n",
    "disconnected.sort_values(by='disconnected', ascending=False)"
   ],
   "execution_count":13,
   "outputs":[
    {
     "data":{
      "text\/html":[
       "<div>\n",
       "<style scoped>\n",
       "    .dataframe tbody tr th:only-of-type {\n",
       "        vertical-align: middle;\n",
       "    }\n",
       "\n",
       "    .dataframe tbody tr th {\n",
       "        vertical-align: top;\n",
       "    }\n",
       "\n",
       "    .dataframe thead th {\n",
       "        text-align: right;\n",
       "    }\n",
       "<\/style>\n",
       "<table border=\"1\" class=\"dataframe\">\n",
       "  <thead>\n",
       "    <tr style=\"text-align: right;\">\n",
       "      <th><\/th>\n",
       "      <th>account_id<\/th>\n",
       "      <th>disconnected<\/th>\n",
       "    <\/tr>\n",
       "  <\/thead>\n",
       "  <tbody>\n",
       "    <tr>\n",
       "      <th>0<\/th>\n",
       "      <td>0<\/td>\n",
       "      <td>2353<\/td>\n",
       "    <\/tr>\n",
       "    <tr>\n",
       "      <th>3690<\/th>\n",
       "      <td>3690<\/td>\n",
       "      <td>5<\/td>\n",
       "    <\/tr>\n",
       "    <tr>\n",
       "      <th>9038<\/th>\n",
       "      <td>9038<\/td>\n",
       "      <td>5<\/td>\n",
       "    <\/tr>\n",
       "    <tr>\n",
       "      <th>4451<\/th>\n",
       "      <td>4451<\/td>\n",
       "      <td>5<\/td>\n",
       "    <\/tr>\n",
       "    <tr>\n",
       "      <th>25994<\/th>\n",
       "      <td>25994<\/td>\n",
       "      <td>4<\/td>\n",
       "    <\/tr>\n",
       "    <tr>\n",
       "      <th>...<\/th>\n",
       "      <td>...<\/td>\n",
       "      <td>...<\/td>\n",
       "    <\/tr>\n",
       "    <tr>\n",
       "      <th>54014<\/th>\n",
       "      <td>54014<\/td>\n",
       "      <td>0<\/td>\n",
       "    <\/tr>\n",
       "    <tr>\n",
       "      <th>54015<\/th>\n",
       "      <td>54015<\/td>\n",
       "      <td>0<\/td>\n",
       "    <\/tr>\n",
       "    <tr>\n",
       "      <th>54017<\/th>\n",
       "      <td>54017<\/td>\n",
       "      <td>0<\/td>\n",
       "    <\/tr>\n",
       "    <tr>\n",
       "      <th>54018<\/th>\n",
       "      <td>54018<\/td>\n",
       "      <td>0<\/td>\n",
       "    <\/tr>\n",
       "    <tr>\n",
       "      <th>158360<\/th>\n",
       "      <td>158360<\/td>\n",
       "      <td>0<\/td>\n",
       "    <\/tr>\n",
       "  <\/tbody>\n",
       "<\/table>\n",
       "<p>158361 rows × 2 columns<\/p>\n",
       "<\/div>"
      ]
     },
     "metadata":{
      
     },
     "output_type":"display_data"
    }
   ],
   "metadata":{
    "datalore":{
     "type":"CODE",
     "hide_input_from_viewers":false,
     "hide_output_from_viewers":false
    }
   }
  },
  {
   "cell_type":"markdown",
   "source":[
    "<p>Посчитаем, в скольких матчах игрок отключался на долгое время:<\/p>"
   ],
   "attachments":{
    
   },
   "metadata":{
    "datalore":{
     "type":"MD",
     "hide_input_from_viewers":false,
     "hide_output_from_viewers":false
    }
   }
  },
  {
   "cell_type":"code",
   "source":[
    "long_disconnected = players[[\"match_id\", \"account_id\", \"leaver_status\"]]\n",
    "long_disconnected[\"leaver_status\"] = players[\"leaver_status\"].mask(players[\"leaver_status\"].ne(2))\n",
    "long_disconnected = long_disconnected.groupby(\"account_id\", as_index=False)[\"leaver_status\"].count()\n",
    "long_disconnected.rename(columns = {'leaver_status':'long_disconnected'}, inplace = True)\n",
    "long_disconnected.sort_values(by='long_disconnected', ascending=False)"
   ],
   "execution_count":14,
   "outputs":[
    {
     "data":{
      "text\/html":[
       "<div>\n",
       "<style scoped>\n",
       "    .dataframe tbody tr th:only-of-type {\n",
       "        vertical-align: middle;\n",
       "    }\n",
       "\n",
       "    .dataframe tbody tr th {\n",
       "        vertical-align: top;\n",
       "    }\n",
       "\n",
       "    .dataframe thead th {\n",
       "        text-align: right;\n",
       "    }\n",
       "<\/style>\n",
       "<table border=\"1\" class=\"dataframe\">\n",
       "  <thead>\n",
       "    <tr style=\"text-align: right;\">\n",
       "      <th><\/th>\n",
       "      <th>account_id<\/th>\n",
       "      <th>long_disconnected<\/th>\n",
       "    <\/tr>\n",
       "  <\/thead>\n",
       "  <tbody>\n",
       "    <tr>\n",
       "      <th>0<\/th>\n",
       "      <td>0<\/td>\n",
       "      <td>1282<\/td>\n",
       "    <\/tr>\n",
       "    <tr>\n",
       "      <th>32412<\/th>\n",
       "      <td>32412<\/td>\n",
       "      <td>3<\/td>\n",
       "    <\/tr>\n",
       "    <tr>\n",
       "      <th>5584<\/th>\n",
       "      <td>5584<\/td>\n",
       "      <td>2<\/td>\n",
       "    <\/tr>\n",
       "    <tr>\n",
       "      <th>4817<\/th>\n",
       "      <td>4817<\/td>\n",
       "      <td>2<\/td>\n",
       "    <\/tr>\n",
       "    <tr>\n",
       "      <th>139136<\/th>\n",
       "      <td>139136<\/td>\n",
       "      <td>2<\/td>\n",
       "    <\/tr>\n",
       "    <tr>\n",
       "      <th>...<\/th>\n",
       "      <td>...<\/td>\n",
       "      <td>...<\/td>\n",
       "    <\/tr>\n",
       "    <tr>\n",
       "      <th>53083<\/th>\n",
       "      <td>53083<\/td>\n",
       "      <td>0<\/td>\n",
       "    <\/tr>\n",
       "    <tr>\n",
       "      <th>53084<\/th>\n",
       "      <td>53084<\/td>\n",
       "      <td>0<\/td>\n",
       "    <\/tr>\n",
       "    <tr>\n",
       "      <th>53085<\/th>\n",
       "      <td>53085<\/td>\n",
       "      <td>0<\/td>\n",
       "    <\/tr>\n",
       "    <tr>\n",
       "      <th>53086<\/th>\n",
       "      <td>53086<\/td>\n",
       "      <td>0<\/td>\n",
       "    <\/tr>\n",
       "    <tr>\n",
       "      <th>158360<\/th>\n",
       "      <td>158360<\/td>\n",
       "      <td>0<\/td>\n",
       "    <\/tr>\n",
       "  <\/tbody>\n",
       "<\/table>\n",
       "<p>158361 rows × 2 columns<\/p>\n",
       "<\/div>"
      ]
     },
     "metadata":{
      
     },
     "output_type":"display_data"
    }
   ],
   "metadata":{
    "datalore":{
     "type":"CODE",
     "hide_input_from_viewers":false,
     "hide_output_from_viewers":false
    }
   }
  },
  {
   "cell_type":"markdown",
   "source":[
    "<p>Посчитаем, в скольких матчах игрок вручную покидал игру:<\/p>"
   ],
   "attachments":{
    
   },
   "metadata":{
    "datalore":{
     "type":"MD",
     "hide_input_from_viewers":false,
     "hide_output_from_viewers":false
    }
   }
  },
  {
   "cell_type":"code",
   "source":[
    "left = players[[\"match_id\", \"account_id\", \"leaver_status\"]]\n",
    "left[\"leaver_status\"] = players[\"leaver_status\"].mask(players[\"leaver_status\"].ne(3))\n",
    "left = left.groupby(\"account_id\", as_index=False)[\"leaver_status\"].count()\n",
    "left.rename(columns = {'leaver_status':'left'}, inplace = True)\n",
    "left.sort_values(by='left', ascending=False)"
   ],
   "execution_count":15,
   "outputs":[
    {
     "data":{
      "text\/html":[
       "<div>\n",
       "<style scoped>\n",
       "    .dataframe tbody tr th:only-of-type {\n",
       "        vertical-align: middle;\n",
       "    }\n",
       "\n",
       "    .dataframe tbody tr th {\n",
       "        vertical-align: top;\n",
       "    }\n",
       "\n",
       "    .dataframe thead th {\n",
       "        text-align: right;\n",
       "    }\n",
       "<\/style>\n",
       "<table border=\"1\" class=\"dataframe\">\n",
       "  <thead>\n",
       "    <tr style=\"text-align: right;\">\n",
       "      <th><\/th>\n",
       "      <th>account_id<\/th>\n",
       "      <th>left<\/th>\n",
       "    <\/tr>\n",
       "  <\/thead>\n",
       "  <tbody>\n",
       "    <tr>\n",
       "      <th>0<\/th>\n",
       "      <td>0<\/td>\n",
       "      <td>634<\/td>\n",
       "    <\/tr>\n",
       "    <tr>\n",
       "      <th>14902<\/th>\n",
       "      <td>14902<\/td>\n",
       "      <td>3<\/td>\n",
       "    <\/tr>\n",
       "    <tr>\n",
       "      <th>12847<\/th>\n",
       "      <td>12847<\/td>\n",
       "      <td>3<\/td>\n",
       "    <\/tr>\n",
       "    <tr>\n",
       "      <th>2543<\/th>\n",
       "      <td>2543<\/td>\n",
       "      <td>2<\/td>\n",
       "    <\/tr>\n",
       "    <tr>\n",
       "      <th>12657<\/th>\n",
       "      <td>12657<\/td>\n",
       "      <td>2<\/td>\n",
       "    <\/tr>\n",
       "    <tr>\n",
       "      <th>...<\/th>\n",
       "      <td>...<\/td>\n",
       "      <td>...<\/td>\n",
       "    <\/tr>\n",
       "    <tr>\n",
       "      <th>53070<\/th>\n",
       "      <td>53070<\/td>\n",
       "      <td>0<\/td>\n",
       "    <\/tr>\n",
       "    <tr>\n",
       "      <th>53071<\/th>\n",
       "      <td>53071<\/td>\n",
       "      <td>0<\/td>\n",
       "    <\/tr>\n",
       "    <tr>\n",
       "      <th>53072<\/th>\n",
       "      <td>53072<\/td>\n",
       "      <td>0<\/td>\n",
       "    <\/tr>\n",
       "    <tr>\n",
       "      <th>53073<\/th>\n",
       "      <td>53073<\/td>\n",
       "      <td>0<\/td>\n",
       "    <\/tr>\n",
       "    <tr>\n",
       "      <th>158360<\/th>\n",
       "      <td>158360<\/td>\n",
       "      <td>0<\/td>\n",
       "    <\/tr>\n",
       "  <\/tbody>\n",
       "<\/table>\n",
       "<p>158361 rows × 2 columns<\/p>\n",
       "<\/div>"
      ]
     },
     "metadata":{
      
     },
     "output_type":"display_data"
    }
   ],
   "metadata":{
    "datalore":{
     "type":"CODE",
     "hide_input_from_viewers":false,
     "hide_output_from_viewers":false
    }
   }
  },
  {
   "cell_type":"markdown",
   "source":[
    "<p>Посчитаем, в скольких матчах игрок долго бездействовал:<\/p>"
   ],
   "attachments":{
    
   },
   "metadata":{
    "datalore":{
     "type":"MD",
     "hide_input_from_viewers":false,
     "hide_output_from_viewers":false
    }
   }
  },
  {
   "cell_type":"code",
   "source":[
    "afk = players[[\"match_id\", \"account_id\", \"leaver_status\"]]\n",
    "afk[\"leaver_status\"] = players[\"leaver_status\"].mask(players[\"leaver_status\"].ne(4))\n",
    "afk = afk.groupby(\"account_id\", as_index=False)[\"leaver_status\"].count()\n",
    "afk.rename(columns = {'leaver_status':'afk'}, inplace = True)\n",
    "afk.sort_values(by='afk', ascending=False)"
   ],
   "execution_count":16,
   "outputs":[
    {
     "data":{
      "text\/html":[
       "<div>\n",
       "<style scoped>\n",
       "    .dataframe tbody tr th:only-of-type {\n",
       "        vertical-align: middle;\n",
       "    }\n",
       "\n",
       "    .dataframe tbody tr th {\n",
       "        vertical-align: top;\n",
       "    }\n",
       "\n",
       "    .dataframe thead th {\n",
       "        text-align: right;\n",
       "    }\n",
       "<\/style>\n",
       "<table border=\"1\" class=\"dataframe\">\n",
       "  <thead>\n",
       "    <tr style=\"text-align: right;\">\n",
       "      <th><\/th>\n",
       "      <th>account_id<\/th>\n",
       "      <th>afk<\/th>\n",
       "    <\/tr>\n",
       "  <\/thead>\n",
       "  <tbody>\n",
       "    <tr>\n",
       "      <th>0<\/th>\n",
       "      <td>0<\/td>\n",
       "      <td>299<\/td>\n",
       "    <\/tr>\n",
       "    <tr>\n",
       "      <th>11522<\/th>\n",
       "      <td>11522<\/td>\n",
       "      <td>2<\/td>\n",
       "    <\/tr>\n",
       "    <tr>\n",
       "      <th>30092<\/th>\n",
       "      <td>30092<\/td>\n",
       "      <td>1<\/td>\n",
       "    <\/tr>\n",
       "    <tr>\n",
       "      <th>94450<\/th>\n",
       "      <td>94450<\/td>\n",
       "      <td>1<\/td>\n",
       "    <\/tr>\n",
       "    <tr>\n",
       "      <th>101265<\/th>\n",
       "      <td>101265<\/td>\n",
       "      <td>1<\/td>\n",
       "    <\/tr>\n",
       "    <tr>\n",
       "      <th>...<\/th>\n",
       "      <td>...<\/td>\n",
       "      <td>...<\/td>\n",
       "    <\/tr>\n",
       "    <tr>\n",
       "      <th>52845<\/th>\n",
       "      <td>52845<\/td>\n",
       "      <td>0<\/td>\n",
       "    <\/tr>\n",
       "    <tr>\n",
       "      <th>52846<\/th>\n",
       "      <td>52846<\/td>\n",
       "      <td>0<\/td>\n",
       "    <\/tr>\n",
       "    <tr>\n",
       "      <th>52847<\/th>\n",
       "      <td>52847<\/td>\n",
       "      <td>0<\/td>\n",
       "    <\/tr>\n",
       "    <tr>\n",
       "      <th>52848<\/th>\n",
       "      <td>52848<\/td>\n",
       "      <td>0<\/td>\n",
       "    <\/tr>\n",
       "    <tr>\n",
       "      <th>158360<\/th>\n",
       "      <td>158360<\/td>\n",
       "      <td>0<\/td>\n",
       "    <\/tr>\n",
       "  <\/tbody>\n",
       "<\/table>\n",
       "<p>158361 rows × 2 columns<\/p>\n",
       "<\/div>"
      ]
     },
     "metadata":{
      
     },
     "output_type":"display_data"
    }
   ],
   "metadata":{
    "datalore":{
     "type":"CODE",
     "hide_input_from_viewers":false,
     "hide_output_from_viewers":false
    }
   }
  },
  {
   "cell_type":"markdown",
   "source":[
    "<p>Объединим полученные данные по каждому игроку:<\/p>"
   ],
   "attachments":{
    
   },
   "metadata":{
    "datalore":{
     "type":"MD",
     "hide_input_from_viewers":false,
     "hide_output_from_viewers":false
    }
   }
  },
  {
   "cell_type":"code",
   "source":[
    "joined = fouls.join(disconnected.set_index('account_id'), on='account_id')\n",
    "joined = joined.join(long_disconnected.set_index('account_id'), on='account_id')\n",
    "joined = joined.join(left.set_index('account_id'), on='account_id')\n",
    "joined = joined.join(afk.set_index('account_id'), on='account_id')\n",
    "joined.sort_values(by = ['profanity', 'disconnected', 'long_disconnected', 'left', 'afk'], ascending = [False, False, False, False, False], na_position = 'first')"
   ],
   "execution_count":17,
   "outputs":[
    {
     "data":{
      "text\/html":[
       "<div>\n",
       "<style scoped>\n",
       "    .dataframe tbody tr th:only-of-type {\n",
       "        vertical-align: middle;\n",
       "    }\n",
       "\n",
       "    .dataframe tbody tr th {\n",
       "        vertical-align: top;\n",
       "    }\n",
       "\n",
       "    .dataframe thead th {\n",
       "        text-align: right;\n",
       "    }\n",
       "<\/style>\n",
       "<table border=\"1\" class=\"dataframe\">\n",
       "  <thead>\n",
       "    <tr style=\"text-align: right;\">\n",
       "      <th><\/th>\n",
       "      <th>account_id<\/th>\n",
       "      <th>profanity<\/th>\n",
       "      <th>disconnected<\/th>\n",
       "      <th>long_disconnected<\/th>\n",
       "      <th>left<\/th>\n",
       "      <th>afk<\/th>\n",
       "    <\/tr>\n",
       "  <\/thead>\n",
       "  <tbody>\n",
       "    <tr>\n",
       "      <th>0<\/th>\n",
       "      <td>0.0<\/td>\n",
       "      <td>36622.0<\/td>\n",
       "      <td>2353<\/td>\n",
       "      <td>1282<\/td>\n",
       "      <td>634<\/td>\n",
       "      <td>299<\/td>\n",
       "    <\/tr>\n",
       "    <tr>\n",
       "      <th>2337<\/th>\n",
       "      <td>2962.0<\/td>\n",
       "      <td>162.0<\/td>\n",
       "      <td>3<\/td>\n",
       "      <td>0<\/td>\n",
       "      <td>0<\/td>\n",
       "      <td>0<\/td>\n",
       "    <\/tr>\n",
       "    <tr>\n",
       "      <th>7010<\/th>\n",
       "      <td>9149.0<\/td>\n",
       "      <td>83.0<\/td>\n",
       "      <td>0<\/td>\n",
       "      <td>1<\/td>\n",
       "      <td>0<\/td>\n",
       "      <td>0<\/td>\n",
       "    <\/tr>\n",
       "    <tr>\n",
       "      <th>15124<\/th>\n",
       "      <td>20197.0<\/td>\n",
       "      <td>79.0<\/td>\n",
       "      <td>0<\/td>\n",
       "      <td>0<\/td>\n",
       "      <td>0<\/td>\n",
       "      <td>0<\/td>\n",
       "    <\/tr>\n",
       "    <tr>\n",
       "      <th>13043<\/th>\n",
       "      <td>17315.0<\/td>\n",
       "      <td>59.0<\/td>\n",
       "      <td>1<\/td>\n",
       "      <td>0<\/td>\n",
       "      <td>0<\/td>\n",
       "      <td>0<\/td>\n",
       "    <\/tr>\n",
       "    <tr>\n",
       "      <th>...<\/th>\n",
       "      <td>...<\/td>\n",
       "      <td>...<\/td>\n",
       "      <td>...<\/td>\n",
       "      <td>...<\/td>\n",
       "      <td>...<\/td>\n",
       "      <td>...<\/td>\n",
       "    <\/tr>\n",
       "    <tr>\n",
       "      <th>108030<\/th>\n",
       "      <td>158344.0<\/td>\n",
       "      <td>0.0<\/td>\n",
       "      <td>0<\/td>\n",
       "      <td>0<\/td>\n",
       "      <td>0<\/td>\n",
       "      <td>0<\/td>\n",
       "    <\/tr>\n",
       "    <tr>\n",
       "      <th>108031<\/th>\n",
       "      <td>158347.0<\/td>\n",
       "      <td>0.0<\/td>\n",
       "      <td>0<\/td>\n",
       "      <td>0<\/td>\n",
       "      <td>0<\/td>\n",
       "      <td>0<\/td>\n",
       "    <\/tr>\n",
       "    <tr>\n",
       "      <th>108033<\/th>\n",
       "      <td>158349.0<\/td>\n",
       "      <td>0.0<\/td>\n",
       "      <td>0<\/td>\n",
       "      <td>0<\/td>\n",
       "      <td>0<\/td>\n",
       "      <td>0<\/td>\n",
       "    <\/tr>\n",
       "    <tr>\n",
       "      <th>108036<\/th>\n",
       "      <td>158355.0<\/td>\n",
       "      <td>0.0<\/td>\n",
       "      <td>0<\/td>\n",
       "      <td>0<\/td>\n",
       "      <td>0<\/td>\n",
       "      <td>0<\/td>\n",
       "    <\/tr>\n",
       "    <tr>\n",
       "      <th>108038<\/th>\n",
       "      <td>158358.0<\/td>\n",
       "      <td>0.0<\/td>\n",
       "      <td>0<\/td>\n",
       "      <td>0<\/td>\n",
       "      <td>0<\/td>\n",
       "      <td>0<\/td>\n",
       "    <\/tr>\n",
       "  <\/tbody>\n",
       "<\/table>\n",
       "<p>108039 rows × 6 columns<\/p>\n",
       "<\/div>"
      ]
     },
     "metadata":{
      
     },
     "output_type":"display_data"
    }
   ],
   "metadata":{
    "datalore":{
     "type":"CODE",
     "hide_input_from_viewers":false,
     "hide_output_from_viewers":false
    }
   }
  },
  {
   "cell_type":"markdown",
   "source":[
    "<h2>Вычисление токсичности<\/h2>"
   ],
   "attachments":{
    
   },
   "metadata":{
    "datalore":{
     "type":"MD",
     "hide_input_from_viewers":false,
     "hide_output_from_viewers":false
    }
   }
  },
  {
   "cell_type":"markdown",
   "source":[
    "<p>Вычислим токсичность игроков по описанной в отчете формуле:<\/p>"
   ],
   "attachments":{
    
   },
   "metadata":{
    "datalore":{
     "type":"MD",
     "hide_input_from_viewers":false,
     "hide_output_from_viewers":false
    }
   }
  },
  {
   "cell_type":"code",
   "source":[
    "results = joined.apply(lambda x: round(20*((x.profanity \/ 4)**2) + 50*((x.disconnected \/ 5)**5) + 500*((x.long_disconnected + x.left + x.afk)**1.5)), axis=1)\n",
    "results = results.rename(\"toxicity\")"
   ],
   "execution_count":18,
   "outputs":[
    
   ],
   "metadata":{
    "datalore":{
     "type":"CODE",
     "hide_input_from_viewers":false,
     "hide_output_from_viewers":false
    }
   }
  },
  {
   "cell_type":"code",
   "source":[
    "joined = joined.join(results)\n",
    "joined = joined[joined[\"account_id\"] != 0]\n",
    "joined.sort_values(by=\"toxicity\", ascending=False)"
   ],
   "execution_count":19,
   "outputs":[
    {
     "data":{
      "text\/html":[
       "<div>\n",
       "<style scoped>\n",
       "    .dataframe tbody tr th:only-of-type {\n",
       "        vertical-align: middle;\n",
       "    }\n",
       "\n",
       "    .dataframe tbody tr th {\n",
       "        vertical-align: top;\n",
       "    }\n",
       "\n",
       "    .dataframe thead th {\n",
       "        text-align: right;\n",
       "    }\n",
       "<\/style>\n",
       "<table border=\"1\" class=\"dataframe\">\n",
       "  <thead>\n",
       "    <tr style=\"text-align: right;\">\n",
       "      <th><\/th>\n",
       "      <th>account_id<\/th>\n",
       "      <th>profanity<\/th>\n",
       "      <th>disconnected<\/th>\n",
       "      <th>long_disconnected<\/th>\n",
       "      <th>left<\/th>\n",
       "      <th>afk<\/th>\n",
       "      <th>toxicity<\/th>\n",
       "    <\/tr>\n",
       "  <\/thead>\n",
       "  <tbody>\n",
       "    <tr>\n",
       "      <th>2337<\/th>\n",
       "      <td>2962.0<\/td>\n",
       "      <td>162.0<\/td>\n",
       "      <td>3<\/td>\n",
       "      <td>0<\/td>\n",
       "      <td>0<\/td>\n",
       "      <td>0<\/td>\n",
       "      <td>32809<\/td>\n",
       "    <\/tr>\n",
       "    <tr>\n",
       "      <th>7010<\/th>\n",
       "      <td>9149.0<\/td>\n",
       "      <td>83.0<\/td>\n",
       "      <td>0<\/td>\n",
       "      <td>1<\/td>\n",
       "      <td>0<\/td>\n",
       "      <td>0<\/td>\n",
       "      <td>9111<\/td>\n",
       "    <\/tr>\n",
       "    <tr>\n",
       "      <th>15124<\/th>\n",
       "      <td>20197.0<\/td>\n",
       "      <td>79.0<\/td>\n",
       "      <td>0<\/td>\n",
       "      <td>0<\/td>\n",
       "      <td>0<\/td>\n",
       "      <td>0<\/td>\n",
       "      <td>7801<\/td>\n",
       "    <\/tr>\n",
       "    <tr>\n",
       "      <th>13043<\/th>\n",
       "      <td>17315.0<\/td>\n",
       "      <td>59.0<\/td>\n",
       "      <td>1<\/td>\n",
       "      <td>0<\/td>\n",
       "      <td>0<\/td>\n",
       "      <td>0<\/td>\n",
       "      <td>4351<\/td>\n",
       "    <\/tr>\n",
       "    <tr>\n",
       "      <th>5095<\/th>\n",
       "      <td>6551.0<\/td>\n",
       "      <td>52.0<\/td>\n",
       "      <td>2<\/td>\n",
       "      <td>0<\/td>\n",
       "      <td>0<\/td>\n",
       "      <td>0<\/td>\n",
       "      <td>3381<\/td>\n",
       "    <\/tr>\n",
       "    <tr>\n",
       "      <th>...<\/th>\n",
       "      <td>...<\/td>\n",
       "      <td>...<\/td>\n",
       "      <td>...<\/td>\n",
       "      <td>...<\/td>\n",
       "      <td>...<\/td>\n",
       "      <td>...<\/td>\n",
       "      <td>...<\/td>\n",
       "    <\/tr>\n",
       "    <tr>\n",
       "      <th>44622<\/th>\n",
       "      <td>60583.0<\/td>\n",
       "      <td>0.0<\/td>\n",
       "      <td>0<\/td>\n",
       "      <td>0<\/td>\n",
       "      <td>0<\/td>\n",
       "      <td>0<\/td>\n",
       "      <td>0<\/td>\n",
       "    <\/tr>\n",
       "    <tr>\n",
       "      <th>44621<\/th>\n",
       "      <td>60582.0<\/td>\n",
       "      <td>0.0<\/td>\n",
       "      <td>0<\/td>\n",
       "      <td>0<\/td>\n",
       "      <td>0<\/td>\n",
       "      <td>0<\/td>\n",
       "      <td>0<\/td>\n",
       "    <\/tr>\n",
       "    <tr>\n",
       "      <th>44620<\/th>\n",
       "      <td>60581.0<\/td>\n",
       "      <td>0.0<\/td>\n",
       "      <td>0<\/td>\n",
       "      <td>0<\/td>\n",
       "      <td>0<\/td>\n",
       "      <td>0<\/td>\n",
       "      <td>0<\/td>\n",
       "    <\/tr>\n",
       "    <tr>\n",
       "      <th>44619<\/th>\n",
       "      <td>60580.0<\/td>\n",
       "      <td>0.0<\/td>\n",
       "      <td>0<\/td>\n",
       "      <td>0<\/td>\n",
       "      <td>0<\/td>\n",
       "      <td>0<\/td>\n",
       "      <td>0<\/td>\n",
       "    <\/tr>\n",
       "    <tr>\n",
       "      <th>108038<\/th>\n",
       "      <td>158358.0<\/td>\n",
       "      <td>0.0<\/td>\n",
       "      <td>0<\/td>\n",
       "      <td>0<\/td>\n",
       "      <td>0<\/td>\n",
       "      <td>0<\/td>\n",
       "      <td>0<\/td>\n",
       "    <\/tr>\n",
       "  <\/tbody>\n",
       "<\/table>\n",
       "<p>108038 rows × 7 columns<\/p>\n",
       "<\/div>"
      ]
     },
     "metadata":{
      
     },
     "output_type":"display_data"
    }
   ],
   "metadata":{
    "datalore":{
     "type":"CODE",
     "hide_input_from_viewers":false,
     "hide_output_from_viewers":false
    }
   }
  },
  {
   "cell_type":"code",
   "source":[
    "joined.to_csv(\"\/data\/notebook_files\/toxicity.csv\")"
   ],
   "execution_count":20,
   "outputs":[
    
   ],
   "metadata":{
    "datalore":{
     "type":"CODE",
     "hide_input_from_viewers":false,
     "hide_output_from_viewers":false
    }
   }
  }
 ],
 "metadata":{
  "datalore":{
   "version":1,
   "computation_mode":"JUPYTER",
   "package_manager":"pip",
   "base_environment":"default",
   "packages":[
    {
     "name":"hatesonar",
     "version":"0.0.7",
     "source":"PIP"
    },
    {
     "name":"alt-profanity-check",
     "version":"1.0.2.1",
     "source":"PIP"
    },
    {
     "name":"spacy",
     "version":"3.3.0",
     "source":"PIP"
    },
    {
     "name":"profanity-filter",
     "version":"1.3.3",
     "source":"PIP"
    },
    {
     "name":"profanity-check",
     "version":"1.0.3",
     "source":"PIP"
    },
    {
     "name":"glicko2",
     "version":"2.0.0",
     "source":"PIP"
    },
    {
     "name":"trueskill",
     "version":"0.4.5",
     "source":"PIP"
    }
   ]
  }
 },
 "nbformat":4,
 "nbformat_minor":4
}