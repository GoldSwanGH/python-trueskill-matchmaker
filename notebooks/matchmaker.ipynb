{
 "cells":[
  {
   "cell_type":"code",
   "source":[
    "import numpy as np # linear algebra\n",
    "import pandas as pd # data processing, CSV file I\/O (e.g. pd.read_csv)\n",
    "\n",
    "import trueskill # A python implementation of TrueSkill"
   ],
   "execution_count":2,
   "outputs":[
    
   ],
   "metadata":{
    "datalore":{
     "type":"CODE",
     "hide_input_from_viewers":false,
     "hide_output_from_viewers":false
    }
   }
  },
  {
   "cell_type":"code",
   "source":[
    "match_data = pd.read_csv(\"\/data\/notebook_files\/test_2_noparty_notoxic_mult_lobbyfix.csv\")"
   ],
   "execution_count":477,
   "outputs":[
    
   ],
   "metadata":{
    "datalore":{
     "type":"CODE",
     "hide_input_from_viewers":false,
     "hide_output_from_viewers":false
    }
   }
  },
  {
   "cell_type":"code",
   "source":[
    "#match_data.dropna(inplace=True)\n",
    "match_data"
   ],
   "execution_count":478,
   "outputs":[
    {
     "data":{
      "text\/html":[
       "<div>\n",
       "<style scoped>\n",
       "    .dataframe tbody tr th:only-of-type {\n",
       "        vertical-align: middle;\n",
       "    }\n",
       "\n",
       "    .dataframe tbody tr th {\n",
       "        vertical-align: top;\n",
       "    }\n",
       "\n",
       "    .dataframe thead th {\n",
       "        text-align: right;\n",
       "    }\n",
       "<\/style>\n",
       "<table border=\"1\" class=\"dataframe\">\n",
       "  <thead>\n",
       "    <tr style=\"text-align: right;\">\n",
       "      <th><\/th>\n",
       "      <th>waiting_time<\/th>\n",
       "      <th>radiant_win<\/th>\n",
       "      <th>radiant_win_chance<\/th>\n",
       "      <th>radiant_party<\/th>\n",
       "      <th>dire_party<\/th>\n",
       "      <th>radiant_mu<\/th>\n",
       "      <th>radiant_sigma<\/th>\n",
       "      <th>dire_mu<\/th>\n",
       "      <th>dire_sigma<\/th>\n",
       "      <th>diff_mult<\/th>\n",
       "      <th>account_id_1<\/th>\n",
       "      <th>account_id_2<\/th>\n",
       "      <th>account_id_3<\/th>\n",
       "      <th>account_id_4<\/th>\n",
       "      <th>account_id_5<\/th>\n",
       "      <th>account_id_6<\/th>\n",
       "      <th>account_id_7<\/th>\n",
       "      <th>account_id_8<\/th>\n",
       "      <th>account_id_9<\/th>\n",
       "      <th>account_id_10<\/th>\n",
       "    <\/tr>\n",
       "  <\/thead>\n",
       "  <tbody>\n",
       "    <tr>\n",
       "      <th>0<\/th>\n",
       "      <td>14.5<\/td>\n",
       "      <td>False<\/td>\n",
       "      <td>0.502102<\/td>\n",
       "      <td>11111<\/td>\n",
       "      <td>11111<\/td>\n",
       "      <td>24.125359<\/td>\n",
       "      <td>5.848254<\/td>\n",
       "      <td>24.100088<\/td>\n",
       "      <td>6.608137<\/td>\n",
       "      <td>1<\/td>\n",
       "      <td>46903.0<\/td>\n",
       "      <td>13199.0<\/td>\n",
       "      <td>137113.0<\/td>\n",
       "      <td>151677.0<\/td>\n",
       "      <td>47691.0<\/td>\n",
       "      <td>153035.0<\/td>\n",
       "      <td>7180.0<\/td>\n",
       "      <td>106389.0<\/td>\n",
       "      <td>220363.0<\/td>\n",
       "      <td>118559.0<\/td>\n",
       "    <\/tr>\n",
       "    <tr>\n",
       "      <th>1<\/th>\n",
       "      <td>35.0<\/td>\n",
       "      <td>True<\/td>\n",
       "      <td>0.504270<\/td>\n",
       "      <td>11111<\/td>\n",
       "      <td>11111<\/td>\n",
       "      <td>18.020909<\/td>\n",
       "      <td>6.471792<\/td>\n",
       "      <td>17.968969<\/td>\n",
       "      <td>6.256595<\/td>\n",
       "      <td>2<\/td>\n",
       "      <td>41137.0<\/td>\n",
       "      <td>99844.0<\/td>\n",
       "      <td>74403.0<\/td>\n",
       "      <td>159770.0<\/td>\n",
       "      <td>145830.0<\/td>\n",
       "      <td>47799.0<\/td>\n",
       "      <td>77108.0<\/td>\n",
       "      <td>223157.0<\/td>\n",
       "      <td>149136.0<\/td>\n",
       "      <td>325067.0<\/td>\n",
       "    <\/tr>\n",
       "    <tr>\n",
       "      <th>2<\/th>\n",
       "      <td>4.5<\/td>\n",
       "      <td>False<\/td>\n",
       "      <td>0.505895<\/td>\n",
       "      <td>11111<\/td>\n",
       "      <td>11111<\/td>\n",
       "      <td>25.630911<\/td>\n",
       "      <td>6.376912<\/td>\n",
       "      <td>25.560234<\/td>\n",
       "      <td>5.801149<\/td>\n",
       "      <td>1<\/td>\n",
       "      <td>322996.0<\/td>\n",
       "      <td>85631.0<\/td>\n",
       "      <td>313288.0<\/td>\n",
       "      <td>325655.0<\/td>\n",
       "      <td>44828.0<\/td>\n",
       "      <td>131413.0<\/td>\n",
       "      <td>184434.0<\/td>\n",
       "      <td>76914.0<\/td>\n",
       "      <td>170981.0<\/td>\n",
       "      <td>324643.0<\/td>\n",
       "    <\/tr>\n",
       "    <tr>\n",
       "      <th>3<\/th>\n",
       "      <td>14.0<\/td>\n",
       "      <td>True<\/td>\n",
       "      <td>0.503358<\/td>\n",
       "      <td>11111<\/td>\n",
       "      <td>11111<\/td>\n",
       "      <td>20.895226<\/td>\n",
       "      <td>7.076523<\/td>\n",
       "      <td>20.850811<\/td>\n",
       "      <td>7.308328<\/td>\n",
       "      <td>1<\/td>\n",
       "      <td>254844.0<\/td>\n",
       "      <td>41955.0<\/td>\n",
       "      <td>98310.0<\/td>\n",
       "      <td>114948.0<\/td>\n",
       "      <td>174363.0<\/td>\n",
       "      <td>50726.0<\/td>\n",
       "      <td>329978.0<\/td>\n",
       "      <td>216677.0<\/td>\n",
       "      <td>245525.0<\/td>\n",
       "      <td>295945.0<\/td>\n",
       "    <\/tr>\n",
       "    <tr>\n",
       "      <th>4<\/th>\n",
       "      <td>10.0<\/td>\n",
       "      <td>False<\/td>\n",
       "      <td>0.502611<\/td>\n",
       "      <td>11111<\/td>\n",
       "      <td>11111<\/td>\n",
       "      <td>23.520405<\/td>\n",
       "      <td>6.031116<\/td>\n",
       "      <td>23.488528<\/td>\n",
       "      <td>6.537603<\/td>\n",
       "      <td>1<\/td>\n",
       "      <td>202367.0<\/td>\n",
       "      <td>36747.0<\/td>\n",
       "      <td>313134.0<\/td>\n",
       "      <td>111780.0<\/td>\n",
       "      <td>89175.0<\/td>\n",
       "      <td>118519.0<\/td>\n",
       "      <td>118678.0<\/td>\n",
       "      <td>319510.0<\/td>\n",
       "      <td>151684.0<\/td>\n",
       "      <td>122751.0<\/td>\n",
       "    <\/tr>\n",
       "    <tr>\n",
       "      <th>...<\/th>\n",
       "      <td>...<\/td>\n",
       "      <td>...<\/td>\n",
       "      <td>...<\/td>\n",
       "      <td>...<\/td>\n",
       "      <td>...<\/td>\n",
       "      <td>...<\/td>\n",
       "      <td>...<\/td>\n",
       "      <td>...<\/td>\n",
       "      <td>...<\/td>\n",
       "      <td>...<\/td>\n",
       "      <td>...<\/td>\n",
       "      <td>...<\/td>\n",
       "      <td>...<\/td>\n",
       "      <td>...<\/td>\n",
       "      <td>...<\/td>\n",
       "      <td>...<\/td>\n",
       "      <td>...<\/td>\n",
       "      <td>...<\/td>\n",
       "      <td>...<\/td>\n",
       "      <td>...<\/td>\n",
       "    <\/tr>\n",
       "    <tr>\n",
       "      <th>8291<\/th>\n",
       "      <td>5.5<\/td>\n",
       "      <td>True<\/td>\n",
       "      <td>0.503338<\/td>\n",
       "      <td>11111<\/td>\n",
       "      <td>11111<\/td>\n",
       "      <td>28.814435<\/td>\n",
       "      <td>5.690676<\/td>\n",
       "      <td>28.774256<\/td>\n",
       "      <td>6.671971<\/td>\n",
       "      <td>1<\/td>\n",
       "      <td>292496.0<\/td>\n",
       "      <td>23653.0<\/td>\n",
       "      <td>25986.0<\/td>\n",
       "      <td>216205.0<\/td>\n",
       "      <td>102965.0<\/td>\n",
       "      <td>51745.0<\/td>\n",
       "      <td>317301.0<\/td>\n",
       "      <td>268358.0<\/td>\n",
       "      <td>208556.0<\/td>\n",
       "      <td>54115.0<\/td>\n",
       "    <\/tr>\n",
       "    <tr>\n",
       "      <th>8292<\/th>\n",
       "      <td>8.5<\/td>\n",
       "      <td>True<\/td>\n",
       "      <td>0.506941<\/td>\n",
       "      <td>11111<\/td>\n",
       "      <td>11111<\/td>\n",
       "      <td>22.511831<\/td>\n",
       "      <td>6.256670<\/td>\n",
       "      <td>22.428238<\/td>\n",
       "      <td>6.293160<\/td>\n",
       "      <td>1<\/td>\n",
       "      <td>22006.0<\/td>\n",
       "      <td>104244.0<\/td>\n",
       "      <td>216448.0<\/td>\n",
       "      <td>103787.0<\/td>\n",
       "      <td>63725.0<\/td>\n",
       "      <td>83654.0<\/td>\n",
       "      <td>125625.0<\/td>\n",
       "      <td>167428.0<\/td>\n",
       "      <td>199560.0<\/td>\n",
       "      <td>329864.0<\/td>\n",
       "    <\/tr>\n",
       "    <tr>\n",
       "      <th>8293<\/th>\n",
       "      <td>6.0<\/td>\n",
       "      <td>False<\/td>\n",
       "      <td>0.505271<\/td>\n",
       "      <td>11111<\/td>\n",
       "      <td>11111<\/td>\n",
       "      <td>30.658697<\/td>\n",
       "      <td>6.295350<\/td>\n",
       "      <td>30.596353<\/td>\n",
       "      <td>5.805869<\/td>\n",
       "      <td>1<\/td>\n",
       "      <td>319990.0<\/td>\n",
       "      <td>267461.0<\/td>\n",
       "      <td>321839.0<\/td>\n",
       "      <td>25510.0<\/td>\n",
       "      <td>70406.0<\/td>\n",
       "      <td>286128.0<\/td>\n",
       "      <td>109016.0<\/td>\n",
       "      <td>117164.0<\/td>\n",
       "      <td>91940.0<\/td>\n",
       "      <td>271181.0<\/td>\n",
       "    <\/tr>\n",
       "    <tr>\n",
       "      <th>8294<\/th>\n",
       "      <td>7.0<\/td>\n",
       "      <td>True<\/td>\n",
       "      <td>0.503068<\/td>\n",
       "      <td>11111<\/td>\n",
       "      <td>11111<\/td>\n",
       "      <td>28.416692<\/td>\n",
       "      <td>6.716611<\/td>\n",
       "      <td>28.378910<\/td>\n",
       "      <td>6.069060<\/td>\n",
       "      <td>1<\/td>\n",
       "      <td>27107.0<\/td>\n",
       "      <td>124426.0<\/td>\n",
       "      <td>139244.0<\/td>\n",
       "      <td>119213.0<\/td>\n",
       "      <td>159894.0<\/td>\n",
       "      <td>283197.0<\/td>\n",
       "      <td>64339.0<\/td>\n",
       "      <td>37663.0<\/td>\n",
       "      <td>102377.0<\/td>\n",
       "      <td>324977.0<\/td>\n",
       "    <\/tr>\n",
       "    <tr>\n",
       "      <th>8295<\/th>\n",
       "      <td>7.0<\/td>\n",
       "      <td>True<\/td>\n",
       "      <td>0.503899<\/td>\n",
       "      <td>11111<\/td>\n",
       "      <td>11111<\/td>\n",
       "      <td>28.524953<\/td>\n",
       "      <td>5.724702<\/td>\n",
       "      <td>28.478807<\/td>\n",
       "      <td>6.088602<\/td>\n",
       "      <td>1<\/td>\n",
       "      <td>31717.0<\/td>\n",
       "      <td>170688.0<\/td>\n",
       "      <td>278788.0<\/td>\n",
       "      <td>28407.0<\/td>\n",
       "      <td>136166.0<\/td>\n",
       "      <td>288295.0<\/td>\n",
       "      <td>128349.0<\/td>\n",
       "      <td>114173.0<\/td>\n",
       "      <td>109115.0<\/td>\n",
       "      <td>65859.0<\/td>\n",
       "    <\/tr>\n",
       "  <\/tbody>\n",
       "<\/table>\n",
       "<p>8296 rows × 20 columns<\/p>\n",
       "<\/div>"
      ]
     },
     "metadata":{
      
     },
     "output_type":"display_data"
    }
   ],
   "metadata":{
    "datalore":{
     "type":"CODE",
     "hide_input_from_viewers":false,
     "hide_output_from_viewers":false
    }
   }
  },
  {
   "cell_type":"code",
   "source":[
    "match_data.groupby(by=\"radiant_win\", as_index=False)[\"radiant_win\"].count()"
   ],
   "execution_count":479,
   "outputs":[
    {
     "data":{
      "text\/html":[
       "<div>\n",
       "<style scoped>\n",
       "    .dataframe tbody tr th:only-of-type {\n",
       "        vertical-align: middle;\n",
       "    }\n",
       "\n",
       "    .dataframe tbody tr th {\n",
       "        vertical-align: top;\n",
       "    }\n",
       "\n",
       "    .dataframe thead th {\n",
       "        text-align: right;\n",
       "    }\n",
       "<\/style>\n",
       "<table border=\"1\" class=\"dataframe\">\n",
       "  <thead>\n",
       "    <tr style=\"text-align: right;\">\n",
       "      <th><\/th>\n",
       "      <th>radiant_win<\/th>\n",
       "    <\/tr>\n",
       "  <\/thead>\n",
       "  <tbody>\n",
       "    <tr>\n",
       "      <th>0<\/th>\n",
       "      <td>4142<\/td>\n",
       "    <\/tr>\n",
       "    <tr>\n",
       "      <th>1<\/th>\n",
       "      <td>4154<\/td>\n",
       "    <\/tr>\n",
       "  <\/tbody>\n",
       "<\/table>\n",
       "<\/div>"
      ]
     },
     "metadata":{
      
     },
     "output_type":"display_data"
    }
   ],
   "metadata":{
    "datalore":{
     "type":"CODE",
     "hide_input_from_viewers":false,
     "hide_output_from_viewers":false
    }
   }
  },
  {
   "cell_type":"code",
   "source":[
    "games_per_acc = match_data.groupby(by=\"account_id_1\")[\"account_id_1\"].count()#.sort_values(ascending=False)\n",
    "games_per_acc.index.name = \"account_id\""
   ],
   "execution_count":480,
   "outputs":[
    
   ],
   "metadata":{
    "datalore":{
     "type":"CODE",
     "hide_input_from_viewers":false,
     "hide_output_from_viewers":false
    }
   }
  },
  {
   "cell_type":"code",
   "source":[
    "s = match_data.groupby(by=\"account_id_2\")[\"account_id_2\"].count()#.sort_values(ascending=False)\n",
    "s.index.name = \"account_id\"\n",
    "games_per_acc = pd.concat([games_per_acc, s], axis=1)"
   ],
   "execution_count":481,
   "outputs":[
    
   ],
   "metadata":{
    "datalore":{
     "type":"CODE",
     "hide_input_from_viewers":false,
     "hide_output_from_viewers":false
    }
   }
  },
  {
   "cell_type":"code",
   "source":[
    "s = match_data.groupby(by=\"account_id_3\")[\"account_id_3\"].count()#.sort_values(ascending=False)\n",
    "s.index.name = \"account_id\"\n",
    "games_per_acc = pd.concat([games_per_acc, s], axis=1)"
   ],
   "execution_count":482,
   "outputs":[
    
   ],
   "metadata":{
    "datalore":{
     "type":"CODE",
     "hide_input_from_viewers":false,
     "hide_output_from_viewers":false
    }
   }
  },
  {
   "cell_type":"code",
   "source":[
    "s = match_data.groupby(by=\"account_id_4\")[\"account_id_4\"].count()#.sort_values(ascending=False)\n",
    "s.index.name = \"account_id\"\n",
    "games_per_acc = pd.concat([games_per_acc, s], axis=1)"
   ],
   "execution_count":483,
   "outputs":[
    
   ],
   "metadata":{
    "datalore":{
     "type":"CODE",
     "hide_input_from_viewers":false,
     "hide_output_from_viewers":false
    }
   }
  },
  {
   "cell_type":"code",
   "source":[
    "s = match_data.groupby(by=\"account_id_5\")[\"account_id_5\"].count()#.sort_values(ascending=False)\n",
    "s.index.name = \"account_id\"\n",
    "games_per_acc = pd.concat([games_per_acc, s], axis=1)"
   ],
   "execution_count":484,
   "outputs":[
    
   ],
   "metadata":{
    "datalore":{
     "type":"CODE",
     "hide_input_from_viewers":false,
     "hide_output_from_viewers":false
    }
   }
  },
  {
   "cell_type":"code",
   "source":[
    "s = match_data.groupby(by=\"account_id_6\")[\"account_id_6\"].count()#.sort_values(ascending=False)\n",
    "s.index.name = \"account_id\"\n",
    "games_per_acc = pd.concat([games_per_acc, s], axis=1)"
   ],
   "execution_count":485,
   "outputs":[
    
   ],
   "metadata":{
    "datalore":{
     "type":"CODE",
     "hide_input_from_viewers":false,
     "hide_output_from_viewers":false
    }
   }
  },
  {
   "cell_type":"code",
   "source":[
    "s = match_data.groupby(by=\"account_id_7\")[\"account_id_7\"].count()#.sort_values(ascending=False)\n",
    "s.index.name = \"account_id\"\n",
    "games_per_acc = pd.concat([games_per_acc, s], axis=1)"
   ],
   "execution_count":486,
   "outputs":[
    
   ],
   "metadata":{
    "datalore":{
     "type":"CODE",
     "hide_input_from_viewers":false,
     "hide_output_from_viewers":false
    }
   }
  },
  {
   "cell_type":"code",
   "source":[
    "s = match_data.groupby(by=\"account_id_8\")[\"account_id_8\"].count()#.sort_values(ascending=False)\n",
    "s.index.name = \"account_id\"\n",
    "games_per_acc = pd.concat([games_per_acc, s], axis=1)"
   ],
   "execution_count":487,
   "outputs":[
    
   ],
   "metadata":{
    "datalore":{
     "type":"CODE",
     "hide_input_from_viewers":false,
     "hide_output_from_viewers":false
    }
   }
  },
  {
   "cell_type":"code",
   "source":[
    "s = match_data.groupby(by=\"account_id_9\")[\"account_id_9\"].count()#.sort_values(ascending=False)\n",
    "s.index.name = \"account_id\"\n",
    "games_per_acc = pd.concat([games_per_acc, s], axis=1)"
   ],
   "execution_count":488,
   "outputs":[
    
   ],
   "metadata":{
    "datalore":{
     "type":"CODE",
     "hide_input_from_viewers":false,
     "hide_output_from_viewers":false
    }
   }
  },
  {
   "cell_type":"code",
   "source":[
    "s = match_data.groupby(by=\"account_id_10\")[\"account_id_10\"].count()#.sort_values(ascending=False)\n",
    "s.index.name = \"account_id\"\n",
    "games_per_acc = pd.concat([games_per_acc, s], axis=1)"
   ],
   "execution_count":489,
   "outputs":[
    
   ],
   "metadata":{
    "datalore":{
     "type":"CODE",
     "hide_input_from_viewers":false,
     "hide_output_from_viewers":false
    }
   }
  },
  {
   "cell_type":"code",
   "source":[
    "games_per_acc.fillna(0, inplace=True)"
   ],
   "execution_count":490,
   "outputs":[
    
   ],
   "metadata":{
    "datalore":{
     "type":"CODE",
     "hide_input_from_viewers":false,
     "hide_output_from_viewers":false
    }
   }
  },
  {
   "cell_type":"code",
   "source":[
    "games_played = games_per_acc.sum(axis=1)\n",
    "games_played.sort_values(ascending=False)"
   ],
   "execution_count":491,
   "outputs":[
    {
     "data":{
      "text\/html":[
       
      ]
     },
     "metadata":{
      
     },
     "output_type":"display_data"
    }
   ],
   "metadata":{
    "datalore":{
     "type":"CODE",
     "hide_input_from_viewers":false,
     "hide_output_from_viewers":false
    }
   }
  },
  {
   "cell_type":"code",
   "source":[
    "match_data[\"radiant_win_chance\"].mean()"
   ],
   "execution_count":492,
   "outputs":[
    {
     "data":{
      "text\/plain":[
       "0.504193206021629"
      ]
     },
     "metadata":{
      
     },
     "output_type":"display_data"
    }
   ],
   "metadata":{
    "datalore":{
     "type":"CODE",
     "hide_input_from_viewers":false,
     "hide_output_from_viewers":false
    }
   }
  },
  {
   "cell_type":"code",
   "source":[
    "match_data[\"radiant_win_chance\"].max()"
   ],
   "execution_count":493,
   "outputs":[
    {
     "data":{
      "text\/plain":[
       "0.509301211399825"
      ]
     },
     "metadata":{
      
     },
     "output_type":"display_data"
    }
   ],
   "metadata":{
    "datalore":{
     "type":"CODE",
     "hide_input_from_viewers":false,
     "hide_output_from_viewers":false
    }
   }
  },
  {
   "cell_type":"code",
   "source":[
    "match_data[\"radiant_win_chance\"].min()"
   ],
   "execution_count":494,
   "outputs":[
    {
     "data":{
      "text\/plain":[
       "0.5004413976390327"
      ]
     },
     "metadata":{
      
     },
     "output_type":"display_data"
    }
   ],
   "metadata":{
    "datalore":{
     "type":"CODE",
     "hide_input_from_viewers":false,
     "hide_output_from_viewers":false
    }
   }
  },
  {
   "cell_type":"code",
   "source":[
    "match_data[\"waiting_time\"].mean()"
   ],
   "execution_count":495,
   "outputs":[
    {
     "data":{
      "text\/plain":[
       "11.73662005785921"
      ]
     },
     "metadata":{
      
     },
     "output_type":"display_data"
    }
   ],
   "metadata":{
    "datalore":{
     "type":"CODE",
     "hide_input_from_viewers":false,
     "hide_output_from_viewers":false
    }
   }
  },
  {
   "cell_type":"code",
   "source":[
    "match_data[\"waiting_time\"].max()"
   ],
   "execution_count":496,
   "outputs":[
    {
     "data":{
      "text\/plain":[
       "353.0"
      ]
     },
     "metadata":{
      
     },
     "output_type":"display_data"
    }
   ],
   "metadata":{
    "datalore":{
     "type":"CODE",
     "hide_input_from_viewers":false,
     "hide_output_from_viewers":false
    }
   }
  },
  {
   "cell_type":"code",
   "source":[
    "match_data[\"waiting_time\"].min()"
   ],
   "execution_count":497,
   "outputs":[
    {
     "data":{
      "text\/plain":[
       "1.0"
      ]
     },
     "metadata":{
      
     },
     "output_type":"display_data"
    }
   ],
   "metadata":{
    "datalore":{
     "type":"CODE",
     "hide_input_from_viewers":false,
     "hide_output_from_viewers":false
    }
   }
  },
  {
   "cell_type":"code",
   "source":[
    "mean_inc = []\n",
    "max_inc = []\n",
    "len_inc = []"
   ],
   "execution_count":516,
   "outputs":[
    
   ],
   "metadata":{
    "datalore":{
     "type":"CODE",
     "hide_input_from_viewers":false,
     "hide_output_from_viewers":false
    }
   }
  },
  {
   "cell_type":"code",
   "source":[
    "#noparty_notoxic_nomult_nolobbyfix\n",
    "from statistics import mean\n",
    "\n",
    "temp_mean_inc = [708.8125, 611.0645161290323, 709.671875, 696.5522388059702, 646, 470.05882352941177, 770.0461538461539, 666.7846153846153, 590.9701492537314, 813.6307692307693, 443.67164179104475, 685.1060606060606, 588.6875, 688.9661016949152, 641.9253731343283]\n",
    "temp_max_inc = [4378, 4837, 4648, 4954, 4775, 4809, 4987, 4791, 4812, 4968, 3589, 4931, 4559, 4870, 4628]\n",
    "temp_len_inc = [64, 62, 64, 67, 65, 68, 65, 65, 67, 65, 67, 66, 64, 59, 67]\n",
    "\n",
    "mean_inc.append(mean(temp_mean_inc))\n",
    "max_inc.append(mean(temp_max_inc))\n",
    "len_inc.append(mean(temp_len_inc))"
   ],
   "execution_count":517,
   "outputs":[
    
   ],
   "metadata":{
    "datalore":{
     "type":"CODE",
     "hide_input_from_viewers":false,
     "hide_output_from_viewers":false
    }
   }
  },
  {
   "cell_type":"code",
   "source":[
    "#noparty_toxic_nomult_nolobbyfix\n",
    "from statistics import mean\n",
    "\n",
    "temp_mean_inc = [709.5, 1080.090909090909, 813.8026315789474, 845.8125, 816.1, 872.8219178082192, 1041.52, 926.9277108433735, 782.125, 1132.9036144578313, 868.6470588235294, 855.25, 728.6111111111111, 894.068493150685, 765.9473684210526]\n",
    "temp_max_inc = [4989, 4496, 4626, 4953, 4928, 4752, 4944, 4779, 4956, 4994, 4888, 4908, 4864, 4972, 4834]\n",
    "temp_len_inc = [72, 77, 76, 80, 80, 73, 75, 83, 80, 83, 85, 84, 72, 73, 76]\n",
    "\n",
    "mean_inc.append(mean(temp_mean_inc))\n",
    "max_inc.append(mean(temp_max_inc))\n",
    "len_inc.append(mean(temp_len_inc))"
   ],
   "execution_count":518,
   "outputs":[
    
   ],
   "metadata":{
    "datalore":{
     "type":"CODE",
     "hide_input_from_viewers":false,
     "hide_output_from_viewers":false
    }
   }
  },
  {
   "cell_type":"code",
   "source":[
    "#party_notoxic_nomult_nolobbyfix\n",
    "from statistics import mean\n",
    "\n",
    "temp_mean_inc = [686.296875, 693.6935483870968, 551.2241379310345, 821.6451612903226, 621.1363636363636, 813.1129032258065, 656.258064516129, 723.2542372881356, 756.8, 640.6206896551724, 602.6315789473684, 741.8615384615384, 593.9818181818182, 825.5, 660.4461538461538]\n",
    "temp_max_inc = [4689, 4865, 4955, 4983, 4935, 4971, 4975, 4705, 4937, 4851, 4855, 4945, 4241, 4779, 4835]\n",
    "temp_len_inc = [64, 62, 58, 62, 66, 62, 62, 59, 65, 58, 57, 65, 55, 66, 65]\n",
    "\n",
    "mean_inc.append(mean(temp_mean_inc))\n",
    "max_inc.append(mean(temp_max_inc))\n",
    "len_inc.append(mean(temp_len_inc))"
   ],
   "execution_count":519,
   "outputs":[
    
   ],
   "metadata":{
    "datalore":{
     "type":"CODE",
     "hide_input_from_viewers":false,
     "hide_output_from_viewers":false
    }
   }
  },
  {
   "cell_type":"code",
   "source":[
    "#party_toxic_nomult_nolobbyfix\n",
    "from statistics import mean\n",
    "\n",
    "temp_mean_inc = [616.4, 717.96, 777.1538461538462, 853.7246376811594, 858.2352941176471, 699.2173913043479, 993.6142857142858, 817.5230769230769, 667.76, 821.4307692307692, 740.6842105263158, 671.968253968254, 948.5, 797.8548387096774, 1100.686567164179]\n",
    "temp_max_inc = [4337, 4907, 4915, 4427, 4715, 4753, 4993, 4785, 4913, 4737, 4885, 4611, 4849, 4745, 4953]\n",
    "temp_len_inc = [70, 75, 65, 69, 68, 69, 70, 65, 75, 65, 57, 63, 76, 62, 67]\n",
    "\n",
    "mean_inc.append(mean(temp_mean_inc))\n",
    "max_inc.append(mean(temp_max_inc))\n",
    "len_inc.append(mean(temp_len_inc))"
   ],
   "execution_count":520,
   "outputs":[
    
   ],
   "metadata":{
    "datalore":{
     "type":"CODE",
     "hide_input_from_viewers":false,
     "hide_output_from_viewers":false
    }
   }
  },
  {
   "cell_type":"code",
   "source":[
    "#party_toxic_mult_nolobbyfix\n",
    "from statistics import mean\n",
    "\n",
    "temp_mean_inc = [79.85185185185185, 199.95238095238096, 188.51111111111112, 137.8913043478261, 142.06382978723406, 40.095238095238095, 132.4318181818182, 146.1219512195122, 185.58, 185.84782608695653, 258.86046511627904, 177.57777777777778, 178.7111111111111, 219.26190476190476, 199.7948717948718]\n",
    "temp_max_inc = [473, 3567, 3863, 1819, 2010, 745, 2611, 1799, 4549, 4401, 3850, 4093, 1771, 4913, 4435]\n",
    "temp_len_inc = [54, 42, 45, 46, 47, 42, 44, 41, 50, 46, 43, 45, 45, 42, 39]\n",
    "\n",
    "mean_inc.append(mean(temp_mean_inc))\n",
    "max_inc.append(mean(temp_max_inc))\n",
    "len_inc.append(mean(temp_len_inc))"
   ],
   "execution_count":521,
   "outputs":[
    
   ],
   "metadata":{
    "datalore":{
     "type":"CODE",
     "hide_input_from_viewers":false,
     "hide_output_from_viewers":false
    }
   }
  },
  {
   "cell_type":"code",
   "source":[
    "#party_toxic_mult_lobbyfix\n",
    "from statistics import mean\n",
    "\n",
    "temp_mean_inc = [94.79591836734694, 90.56818181818181, 119.85365853658537, 111.20930232558139, 75.95652173913044, 188.60526315789474, 66.37254901960785, 144.11904761904762, 145.02325581395348, 172.61363636363637, 186.7, 55.717948717948715, 291.8837209302326, 278.4651162790698, 231.46153846153845]\n",
    "temp_max_inc = [2039, 1379, 1649, 3203, 1305, 4507, 500, 2977, 4275, 2601, 3437, 279, 4035, 4193, 3585]\n",
    "temp_len_inc = [49, 44, 41, 43, 46, 38, 51, 42, 43, 44, 50, 39, 43, 43, 39]\n",
    "\n",
    "mean_inc.append(mean(temp_mean_inc))\n",
    "max_inc.append(mean(temp_max_inc))\n",
    "len_inc.append(mean(temp_len_inc))"
   ],
   "execution_count":522,
   "outputs":[
    
   ],
   "metadata":{
    "datalore":{
     "type":"CODE",
     "hide_input_from_viewers":false,
     "hide_output_from_viewers":false
    }
   }
  },
  {
   "cell_type":"code",
   "source":[
    "#noparty_toxic_mult_lobbyfix\n",
    "from statistics import mean\n",
    "\n",
    "temp_mean_inc = [115.01724137931035, 150.8909090909091, 84.42857142857143, 143.20754716981133, 182.22, 140.6888888888889, 188.68085106382978, 98.06, 198.60714285714286, 135.7391304347826, 67.76086956521739, 55.44, 135.72727272727272, 172.11111111111111, 72.64444444444445]\n",
    "temp_max_inc = [3468, 4677, 1817, 4326, 2795, 3576, 4306, 1031, 4622, 4355, 771, 889, 4212, 2696, 1031]\n",
    "temp_len_inc = [58, 55, 49, 53, 50, 45, 47, 50, 56, 46, 46, 50, 44, 45, 45]\n",
    "\n",
    "mean_inc.append(mean(temp_mean_inc))\n",
    "max_inc.append(mean(temp_max_inc))\n",
    "len_inc.append(mean(temp_len_inc))"
   ],
   "execution_count":523,
   "outputs":[
    
   ],
   "metadata":{
    "datalore":{
     "type":"CODE",
     "hide_input_from_viewers":false,
     "hide_output_from_viewers":false
    }
   }
  },
  {
   "cell_type":"code",
   "source":[
    "#noparty_notoxic_mult_lobbyfix\n",
    "from statistics import mean\n",
    "\n",
    "temp_mean_inc = [99.31343283582089, 102.07936507936508, 125.23880597014926, 96.68181818181819, 125.20689655172414, 82.95522388059702, 108.98484848484848, 88.51470588235294, 107.671875, 73.49253731343283, 114.98529411764706, 106.14285714285714, 187.72131147540983, 103.69444444444444, 91.53030303030303]\n",
    "temp_max_inc = [1386, 599, 3094, 649, 1289, 449, 749, 749, 2199, 299, 899, 2878, 3406, 499, 449]\n",
    "temp_len_inc = [67, 63, 67, 66, 58, 67, 66, 68, 64, 67, 68, 70, 61, 72, 66]\n",
    "\n",
    "mean_inc.append(mean(temp_mean_inc))\n",
    "max_inc.append(mean(temp_max_inc))\n",
    "len_inc.append(mean(temp_len_inc))"
   ],
   "execution_count":524,
   "outputs":[
    
   ],
   "metadata":{
    "datalore":{
     "type":"CODE",
     "hide_input_from_viewers":false,
     "hide_output_from_viewers":false
    }
   }
  },
  {
   "cell_type":"code",
   "source":[
    "data = [\"noparty_notoxic_nomult_nolobbyfix\", \"noparty_toxic_nomult_nolobbyfix\", \"party_notoxic_nomult_nolobbyfix\",\n",
    "        \"party_toxic_nomult_nolobbyfix\", \"party_toxic_mult_nolobbyfix\", \"party_toxic_mult_lobbyfix\",\n",
    "        \"noparty_toxic_mult_lobbyfix\", \"noparty_notoxic_mult_lobbyfix\"]\n",
    "\n",
    "for i in range(0, len(data)):\n",
    "    match_data = pd.read_csv(\"\/data\/notebook_files\/test_2_\" + data[i] + \".csv\")\n",
    "\n",
    "    df = pd.DataFrame(data={\"win_mean\": match_data[\"radiant_win_chance\"].mean(),\n",
    "                \"win_max\": match_data[\"radiant_win_chance\"].max(),\n",
    "                \"win_min\": match_data[\"radiant_win_chance\"].min(),\n",
    "                \"wait_mean\": match_data[\"waiting_time\"].mean(),\n",
    "                \"wait_max\": match_data[\"waiting_time\"].max(),\n",
    "                \"wait_min\": match_data[\"waiting_time\"].min(),\n",
    "                \"inc_mean\": mean_inc[i],\n",
    "                \"inc_max\": max_inc[i],\n",
    "                \"inc_len\": len_inc[i]}, index=[data[i]])\n",
    "    df.to_csv(\"\/data\/notebook_files\/test_results.csv\", mode=\"a\", header=False)\n",
    "\n",
    "res = pd.read_csv(\"\/data\/notebook_files\/test_results.csv\")\n",
    "res"
   ],
   "execution_count":528,
   "outputs":[
    {
     "data":{
      "text\/html":[
       "<div>\n",
       "<style scoped>\n",
       "    .dataframe tbody tr th:only-of-type {\n",
       "        vertical-align: middle;\n",
       "    }\n",
       "\n",
       "    .dataframe tbody tr th {\n",
       "        vertical-align: top;\n",
       "    }\n",
       "\n",
       "    .dataframe thead th {\n",
       "        text-align: right;\n",
       "    }\n",
       "<\/style>\n",
       "<table border=\"1\" class=\"dataframe\">\n",
       "  <thead>\n",
       "    <tr style=\"text-align: right;\">\n",
       "      <th><\/th>\n",
       "      <th>win_mean<\/th>\n",
       "      <th>win_max<\/th>\n",
       "      <th>win_min<\/th>\n",
       "      <th>wait_mean<\/th>\n",
       "      <th>wait_max<\/th>\n",
       "      <th>wait_min<\/th>\n",
       "      <th>inc_mean<\/th>\n",
       "      <th>inc_max<\/th>\n",
       "      <th>inc_len<\/th>\n",
       "    <\/tr>\n",
       "  <\/thead>\n",
       "  <tbody>\n",
       "    <tr>\n",
       "      <th>noparty_notoxic_nomult_nolobbyfix<\/th>\n",
       "      <td>0.504138<\/td>\n",
       "      <td>0.509394<\/td>\n",
       "      <td>0.500711<\/td>\n",
       "      <td>14.480121<\/td>\n",
       "      <td>1861.0<\/td>\n",
       "      <td>1.0<\/td>\n",
       "      <td>648.796555<\/td>\n",
       "      <td>4702.400000<\/td>\n",
       "      <td>65.000000<\/td>\n",
       "    <\/tr>\n",
       "    <tr>\n",
       "      <th>noparty_toxic_nomult_nolobbyfix<\/th>\n",
       "      <td>0.504173<\/td>\n",
       "      <td>0.509415<\/td>\n",
       "      <td>0.500541<\/td>\n",
       "      <td>15.102769<\/td>\n",
       "      <td>1655.0<\/td>\n",
       "      <td>0.5<\/td>\n",
       "      <td>875.608554<\/td>\n",
       "      <td>4858.866667<\/td>\n",
       "      <td>77.933333<\/td>\n",
       "    <\/tr>\n",
       "    <tr>\n",
       "      <th>party_notoxic_nomult_nolobbyfix<\/th>\n",
       "      <td>0.501224<\/td>\n",
       "      <td>0.534949<\/td>\n",
       "      <td>0.463241<\/td>\n",
       "      <td>20.778063<\/td>\n",
       "      <td>1982.0<\/td>\n",
       "      <td>0.5<\/td>\n",
       "      <td>692.564205<\/td>\n",
       "      <td>4834.733333<\/td>\n",
       "      <td>61.733333<\/td>\n",
       "    <\/tr>\n",
       "    <tr>\n",
       "      <th>party_toxic_nomult_nolobbyfix<\/th>\n",
       "      <td>0.501220<\/td>\n",
       "      <td>0.533640<\/td>\n",
       "      <td>0.467552<\/td>\n",
       "      <td>20.463330<\/td>\n",
       "      <td>1955.0<\/td>\n",
       "      <td>0.0<\/td>\n",
       "      <td>805.514211<\/td>\n",
       "      <td>4768.333333<\/td>\n",
       "      <td>67.733333<\/td>\n",
       "    <\/tr>\n",
       "    <tr>\n",
       "      <th>party_toxic_mult_nolobbyfix<\/th>\n",
       "      <td>0.501255<\/td>\n",
       "      <td>0.553886<\/td>\n",
       "      <td>0.465116<\/td>\n",
       "      <td>16.957514<\/td>\n",
       "      <td>1567.5<\/td>\n",
       "      <td>0.0<\/td>\n",
       "      <td>164.836896<\/td>\n",
       "      <td>2993.266667<\/td>\n",
       "      <td>44.733333<\/td>\n",
       "    <\/tr>\n",
       "    <tr>\n",
       "      <th>party_toxic_mult_lobbyfix<\/th>\n",
       "      <td>0.501288<\/td>\n",
       "      <td>0.555818<\/td>\n",
       "      <td>0.462197<\/td>\n",
       "      <td>16.110725<\/td>\n",
       "      <td>357.0<\/td>\n",
       "      <td>0.0<\/td>\n",
       "      <td>150.223044<\/td>\n",
       "      <td>2664.266667<\/td>\n",
       "      <td>43.666667<\/td>\n",
       "    <\/tr>\n",
       "    <tr>\n",
       "      <th>noparty_toxic_mult_lobbyfix<\/th>\n",
       "      <td>0.504149<\/td>\n",
       "      <td>0.513308<\/td>\n",
       "      <td>0.487282<\/td>\n",
       "      <td>12.021707<\/td>\n",
       "      <td>1343.0<\/td>\n",
       "      <td>1.0<\/td>\n",
       "      <td>129.414932<\/td>\n",
       "      <td>2971.466667<\/td>\n",
       "      <td>49.266667<\/td>\n",
       "    <\/tr>\n",
       "    <tr>\n",
       "      <th>noparty_notoxic_mult_lobbyfix<\/th>\n",
       "      <td>0.504193<\/td>\n",
       "      <td>0.509301<\/td>\n",
       "      <td>0.500441<\/td>\n",
       "      <td>11.736620<\/td>\n",
       "      <td>353.0<\/td>\n",
       "      <td>1.0<\/td>\n",
       "      <td>107.614248<\/td>\n",
       "      <td>1306.200000<\/td>\n",
       "      <td>66.000000<\/td>\n",
       "    <\/tr>\n",
       "  <\/tbody>\n",
       "<\/table>\n",
       "<\/div>"
      ]
     },
     "metadata":{
      
     },
     "output_type":"display_data"
    }
   ],
   "metadata":{
    "datalore":{
     "type":"CODE",
     "hide_input_from_viewers":false,
     "hide_output_from_viewers":false
    }
   }
  },
  {
   "cell_type":"code",
   "source":[
    "#df =  pd.DataFrame(columns=[\"win_mean\", \"win_max\", \"win_min\", \"wait_mean\", \"wait_max\", \"wait_min\", \"inc_mean\", \"inc_max\", \"inc_len\"], index=[0])\n",
    "#df.dropna(inplace=True)\n",
    "#df"
   ],
   "execution_count":526,
   "outputs":[
    {
     "data":{
      "text\/html":[
       "<div>\n",
       "<style scoped>\n",
       "    .dataframe tbody tr th:only-of-type {\n",
       "        vertical-align: middle;\n",
       "    }\n",
       "\n",
       "    .dataframe tbody tr th {\n",
       "        vertical-align: top;\n",
       "    }\n",
       "\n",
       "    .dataframe thead th {\n",
       "        text-align: right;\n",
       "    }\n",
       "<\/style>\n",
       "<table border=\"1\" class=\"dataframe\">\n",
       "  <thead>\n",
       "    <tr style=\"text-align: right;\">\n",
       "      <th><\/th>\n",
       "      <th>win_mean<\/th>\n",
       "      <th>win_max<\/th>\n",
       "      <th>win_min<\/th>\n",
       "      <th>wait_mean<\/th>\n",
       "      <th>wait_max<\/th>\n",
       "      <th>wait_min<\/th>\n",
       "      <th>inc_mean<\/th>\n",
       "      <th>inc_max<\/th>\n",
       "      <th>inc_len<\/th>\n",
       "    <\/tr>\n",
       "  <\/thead>\n",
       "  <tbody>\n",
       "  <\/tbody>\n",
       "<\/table>\n",
       "<\/div>"
      ]
     },
     "metadata":{
      
     },
     "output_type":"display_data"
    }
   ],
   "metadata":{
    "datalore":{
     "type":"CODE",
     "hide_input_from_viewers":false,
     "hide_output_from_viewers":false
    }
   }
  },
  {
   "cell_type":"code",
   "source":[
    "#df.to_csv(\"\/data\/notebook_files\/test_results.csv\", index=False)"
   ],
   "execution_count":527,
   "outputs":[
    
   ],
   "metadata":{
    "datalore":{
     "type":"CODE",
     "hide_input_from_viewers":false,
     "hide_output_from_viewers":false
    }
   }
  },
  {
   "cell_type":"code",
   "source":[
    "#df.to_csv(\"\/data\/notebook_files\/test_results.csv\", mode=\"a\", header=False)"
   ],
   "execution_count":501,
   "outputs":[
    
   ],
   "metadata":{
    "datalore":{
     "type":"CODE",
     "hide_input_from_viewers":false,
     "hide_output_from_viewers":false
    }
   }
  },
  {
   "cell_type":"code",
   "source":[
    "from decimal import Decimal\n",
    "\n",
    "\n",
    "res = pd.read_csv(\"\/data\/notebook_files\/test_results.csv\")\n",
    "res.columns = ['сред_шанс_победы', 'макс_шанс_победы', 'мин_шанс_победы', 'сред_время_поиска', 'макс_время_поиска', 'мин_время_поиска', 'сред_время_незап', 'макс_время_незап', 'сред_кол_незап'] \n",
    "res.apply(lambda x: x.round(4))"
   ],
   "execution_count":7,
   "outputs":[
    {
     "data":{
      "text\/html":[
       "<div>\n",
       "<style scoped>\n",
       "    .dataframe tbody tr th:only-of-type {\n",
       "        vertical-align: middle;\n",
       "    }\n",
       "\n",
       "    .dataframe tbody tr th {\n",
       "        vertical-align: top;\n",
       "    }\n",
       "\n",
       "    .dataframe thead th {\n",
       "        text-align: right;\n",
       "    }\n",
       "<\/style>\n",
       "<table border=\"1\" class=\"dataframe\">\n",
       "  <thead>\n",
       "    <tr style=\"text-align: right;\">\n",
       "      <th><\/th>\n",
       "      <th>сред_шанс_победы<\/th>\n",
       "      <th>макс_шанс_победы<\/th>\n",
       "      <th>мин_шанс_победы<\/th>\n",
       "      <th>сред_время_поиска<\/th>\n",
       "      <th>макс_время_поиска<\/th>\n",
       "      <th>мин_время_поиска<\/th>\n",
       "      <th>сред_время_незап<\/th>\n",
       "      <th>макс_время_незап<\/th>\n",
       "      <th>сред_кол_незап<\/th>\n",
       "    <\/tr>\n",
       "  <\/thead>\n",
       "  <tbody>\n",
       "    <tr>\n",
       "      <th>noparty_notoxic_nomult_nolobbyfix<\/th>\n",
       "      <td>0.5041<\/td>\n",
       "      <td>0.5094<\/td>\n",
       "      <td>0.5007<\/td>\n",
       "      <td>14.4801<\/td>\n",
       "      <td>1861.0<\/td>\n",
       "      <td>1.0<\/td>\n",
       "      <td>648.7966<\/td>\n",
       "      <td>4702.4000<\/td>\n",
       "      <td>65.0000<\/td>\n",
       "    <\/tr>\n",
       "    <tr>\n",
       "      <th>noparty_toxic_nomult_nolobbyfix<\/th>\n",
       "      <td>0.5042<\/td>\n",
       "      <td>0.5094<\/td>\n",
       "      <td>0.5005<\/td>\n",
       "      <td>15.1028<\/td>\n",
       "      <td>1655.0<\/td>\n",
       "      <td>0.5<\/td>\n",
       "      <td>875.6086<\/td>\n",
       "      <td>4858.8667<\/td>\n",
       "      <td>77.9333<\/td>\n",
       "    <\/tr>\n",
       "    <tr>\n",
       "      <th>party_notoxic_nomult_nolobbyfix<\/th>\n",
       "      <td>0.5012<\/td>\n",
       "      <td>0.5349<\/td>\n",
       "      <td>0.4632<\/td>\n",
       "      <td>20.7781<\/td>\n",
       "      <td>1982.0<\/td>\n",
       "      <td>0.5<\/td>\n",
       "      <td>692.5642<\/td>\n",
       "      <td>4834.7333<\/td>\n",
       "      <td>61.7333<\/td>\n",
       "    <\/tr>\n",
       "    <tr>\n",
       "      <th>party_toxic_nomult_nolobbyfix<\/th>\n",
       "      <td>0.5012<\/td>\n",
       "      <td>0.5336<\/td>\n",
       "      <td>0.4676<\/td>\n",
       "      <td>20.4633<\/td>\n",
       "      <td>1955.0<\/td>\n",
       "      <td>0.0<\/td>\n",
       "      <td>805.5142<\/td>\n",
       "      <td>4768.3333<\/td>\n",
       "      <td>67.7333<\/td>\n",
       "    <\/tr>\n",
       "    <tr>\n",
       "      <th>party_toxic_mult_nolobbyfix<\/th>\n",
       "      <td>0.5013<\/td>\n",
       "      <td>0.5539<\/td>\n",
       "      <td>0.4651<\/td>\n",
       "      <td>16.9575<\/td>\n",
       "      <td>1567.5<\/td>\n",
       "      <td>0.0<\/td>\n",
       "      <td>164.8369<\/td>\n",
       "      <td>2993.2667<\/td>\n",
       "      <td>44.7333<\/td>\n",
       "    <\/tr>\n",
       "    <tr>\n",
       "      <th>party_toxic_mult_lobbyfix<\/th>\n",
       "      <td>0.5013<\/td>\n",
       "      <td>0.5558<\/td>\n",
       "      <td>0.4622<\/td>\n",
       "      <td>16.1107<\/td>\n",
       "      <td>357.0<\/td>\n",
       "      <td>0.0<\/td>\n",
       "      <td>150.2230<\/td>\n",
       "      <td>2664.2667<\/td>\n",
       "      <td>43.6667<\/td>\n",
       "    <\/tr>\n",
       "    <tr>\n",
       "      <th>noparty_toxic_mult_lobbyfix<\/th>\n",
       "      <td>0.5041<\/td>\n",
       "      <td>0.5133<\/td>\n",
       "      <td>0.4873<\/td>\n",
       "      <td>12.0217<\/td>\n",
       "      <td>1343.0<\/td>\n",
       "      <td>1.0<\/td>\n",
       "      <td>129.4149<\/td>\n",
       "      <td>2971.4667<\/td>\n",
       "      <td>49.2667<\/td>\n",
       "    <\/tr>\n",
       "    <tr>\n",
       "      <th>noparty_notoxic_mult_lobbyfix<\/th>\n",
       "      <td>0.5042<\/td>\n",
       "      <td>0.5093<\/td>\n",
       "      <td>0.5004<\/td>\n",
       "      <td>11.7366<\/td>\n",
       "      <td>353.0<\/td>\n",
       "      <td>1.0<\/td>\n",
       "      <td>107.6142<\/td>\n",
       "      <td>1306.2000<\/td>\n",
       "      <td>66.0000<\/td>\n",
       "    <\/tr>\n",
       "  <\/tbody>\n",
       "<\/table>\n",
       "<\/div>"
      ]
     },
     "metadata":{
      
     },
     "output_type":"display_data"
    }
   ],
   "metadata":{
    "datalore":{
     "type":"CODE",
     "hide_input_from_viewers":false,
     "hide_output_from_viewers":false
    }
   }
  }
 ],
 "metadata":{
  "datalore":{
   "version":1,
   "computation_mode":"JUPYTER",
   "package_manager":"pip",
   "base_environment":"default",
   "packages":[
    {
     "name":"trueskill",
     "version":"0.4.5",
     "source":"PIP"
    }
   ]
  }
 },
 "nbformat":4,
 "nbformat_minor":4
}